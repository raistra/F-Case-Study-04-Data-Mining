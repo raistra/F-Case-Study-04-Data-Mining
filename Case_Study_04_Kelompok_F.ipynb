{
  "nbformat": 4,
  "nbformat_minor": 0,
  "metadata": {
    "colab": {
      "provenance": [],
      "collapsed_sections": [
        "ys9XR0i0y2bl"
      ],
      "include_colab_link": true
    },
    "kernelspec": {
      "name": "python3",
      "display_name": "Python 3"
    },
    "language_info": {
      "name": "python"
    }
  },
  "cells": [
    {
      "cell_type": "markdown",
      "metadata": {
        "id": "view-in-github",
        "colab_type": "text"
      },
      "source": [
        "<a href=\"https://colab.research.google.com/github/raistra/F-Case-Study-04-Data-Mining/blob/main/Case_Study_04_Kelompok_F.ipynb\" target=\"_parent\"><img src=\"https://colab.research.google.com/assets/colab-badge.svg\" alt=\"Open In Colab\"/></a>"
      ]
    },
    {
      "cell_type": "markdown",
      "source": [
        "<center><h2><strong>Study Case 04 - Data Mining dan Business Intelligence: Korelasi dan Regresi</strong></h2></center>\n",
        "\n",
        "\n",
        "---\n",
        "\n",
        "\n"
      ],
      "metadata": {
        "id": "Cbu1Ympyjo70"
      }
    },
    {
      "cell_type": "markdown",
      "source": [
        "# **Kelompok F**\n",
        "\n",
        "Anggota :\n",
        " \n",
        "1. Andini Assyahidah (2006571040)\n",
        "2. Farah Tri Nurul Hayati (2006572882)\n",
        "3. Ni Made Lidya Anggreni (2006522700)\n",
        "4. Nurul Qomariah Abdillah (2006463811)\n",
        "5. Peksyaji (2006522322)\n",
        "6. Raistra Aurel (2006572876)\n",
        "7. Yovela Natalia Yvone (2006463894)\n"
      ],
      "metadata": {
        "id": "nlBrp4OskDR5"
      }
    },
    {
      "cell_type": "markdown",
      "source": [
        "# **Problem Statement**"
      ],
      "metadata": {
        "id": "OOvoziMsk0MW"
      }
    },
    {
      "cell_type": "markdown",
      "source": [
        "Menilai nilai peningkatan efisiensi energi dapat menjadi tantangan karena tidak ada cara untuk benar-benar mengetahui berapa banyak energi yang akan digunakan bangunan tanpa perbaikan. Yang terbaik yang bisa kita lakukan adalah membangun model kontrafaktual. Setelah bangunan dirombak, konsumsi energi baru (lebih rendah) dibandingkan dengan nilai model bangunan asli untuk menghitung penghematan dari retrofit. Model yang lebih akurat dapat mendukung insentif pasar yang lebih baik dan memungkinkan pembiayaan dengan biaya lebih rendah.\n",
        "\n",
        "Tujuan dari Study Case ini untuk membangun model kontrafaktual di empat jenis energi berdasarkan tingkat penggunaan historis dan cuaca yang diamati. Kumpulan data mencakup pembacaan meter per jam selama tiga tahun dari lebih dari seribu bangunan di beberapa lokasi berbeda di seluruh dunia."
      ],
      "metadata": {
        "id": "U0Xm-x1eoGbP"
      }
    },
    {
      "cell_type": "markdown",
      "source": [
        "# **Import Module**"
      ],
      "metadata": {
        "id": "JsS-Rj3bk4yv"
      }
    },
    {
      "cell_type": "code",
      "execution_count": null,
      "metadata": {
        "colab": {
          "base_uri": "https://localhost:8080/",
          "height": 36
        },
        "id": "3yeFijX9jQn0",
        "outputId": "c9eb8735-a643-4874-9c28-0163817fe306"
      },
      "outputs": [
        {
          "output_type": "execute_result",
          "data": {
            "text/plain": [
              "'Done'"
            ],
            "application/vnd.google.colaboratory.intrinsic+json": {
              "type": "string"
            }
          },
          "metadata": {},
          "execution_count": 1
        }
      ],
      "source": [
        "import warnings; warnings.simplefilter('ignore')\n",
        "import pandas as pd, seaborn as sns, matplotlib.pyplot as plt, numpy as np\n",
        "import statsmodels.formula.api as smf\n",
        "from statsmodels.formula.api import ols\n",
        "import statsmodels.api as sm, scipy.stats as stats\n",
        "from sklearn.datasets import load_boston\n",
        "from sklearn.preprocessing import MinMaxScaler\n",
        "plt.style.use('bmh'); sns.set()\n",
        "\"Done\""
      ]
    },
    {
      "cell_type": "markdown",
      "source": [
        "# **Data**"
      ],
      "metadata": {
        "id": "eMzWxLmYl2Gx"
      }
    },
    {
      "cell_type": "code",
      "source": [
        "file_ = 'data/Ashrae_Energy_Mean.csv'\n",
        "try: #Loading Locally\n",
        "    df = pd.read_csv(file_)\n",
        "except Exception as err_:\n",
        "    print(err_, \" Trying to load data from GitHub.\")\n",
        "    !mkdir data\n",
        "    !wget -P data/ https://raw.githubusercontent.com/taudataid/eLearning/master/data/Ashrae_Energy_Mean.csv\n",
        "    df = pd.read_csv(file_)\n",
        "\n",
        "print(df.shape)\n",
        "df.head()"
      ],
      "metadata": {
        "colab": {
          "base_uri": "https://localhost:8080/",
          "height": 443
        },
        "id": "nX1ufEXDVT41",
        "outputId": "6116afd9-c1d2-45e4-eba8-8988efbd4d7a"
      },
      "execution_count": null,
      "outputs": [
        {
          "output_type": "stream",
          "name": "stdout",
          "text": [
            "[Errno 2] No such file or directory: 'data/Ashrae_Energy_Mean.csv'  Trying to load data from GitHub.\n",
            "--2022-11-18 09:09:14--  https://raw.githubusercontent.com/taudataid/eLearning/master/data/Ashrae_Energy_Mean.csv\n",
            "Resolving raw.githubusercontent.com (raw.githubusercontent.com)... 185.199.111.133, 185.199.109.133, 185.199.108.133, ...\n",
            "Connecting to raw.githubusercontent.com (raw.githubusercontent.com)|185.199.111.133|:443... connected.\n",
            "HTTP request sent, awaiting response... 200 OK\n",
            "Length: 241207 (236K) [text/plain]\n",
            "Saving to: ‘data/Ashrae_Energy_Mean.csv’\n",
            "\n",
            "Ashrae_Energy_Mean. 100%[===================>] 235.55K  --.-KB/s    in 0.03s   \n",
            "\n",
            "2022-11-18 09:09:14 (8.69 MB/s) - ‘data/Ashrae_Energy_Mean.csv’ saved [241207/241207]\n",
            "\n",
            "(1413, 12)\n"
          ]
        },
        {
          "output_type": "execute_result",
          "data": {
            "text/plain": [
              "   meter_reading primary_use  square_feet  year_built  floor_count  \\\n",
              "0     237.749127   Education         7432      2008.0          NaN   \n",
              "1     118.553743   Education         2720      2004.0          NaN   \n",
              "2      23.626500   Education         5376      1991.0          NaN   \n",
              "3     382.736016   Education        23685      2002.0          NaN   \n",
              "4    1579.174237   Education       116607      1975.0          NaN   \n",
              "\n",
              "   air_temperature  cloud_coverage  dew_temperature  precip_depth_1_hr  \\\n",
              "0        22.744816        2.998727        17.379328           1.240589   \n",
              "1        22.744816        2.998727        17.379328           1.240589   \n",
              "2        22.744816        2.998727        17.379328           1.240589   \n",
              "3        22.744816        2.998727        17.379328           1.240589   \n",
              "4        22.744816        2.998727        17.379328           1.240589   \n",
              "\n",
              "   sea_level_pressure  wind_direction  wind_speed  \n",
              "0         1017.949437      152.521015    3.391472  \n",
              "1         1017.949437      152.521015    3.391472  \n",
              "2         1017.949437      152.521015    3.391472  \n",
              "3         1017.949437      152.521015    3.391472  \n",
              "4         1017.949437      152.521015    3.391472  "
            ],
            "text/html": [
              "\n",
              "  <div id=\"df-b32ecc43-38c4-4253-a24d-b3d7bcf28bad\">\n",
              "    <div class=\"colab-df-container\">\n",
              "      <div>\n",
              "<style scoped>\n",
              "    .dataframe tbody tr th:only-of-type {\n",
              "        vertical-align: middle;\n",
              "    }\n",
              "\n",
              "    .dataframe tbody tr th {\n",
              "        vertical-align: top;\n",
              "    }\n",
              "\n",
              "    .dataframe thead th {\n",
              "        text-align: right;\n",
              "    }\n",
              "</style>\n",
              "<table border=\"1\" class=\"dataframe\">\n",
              "  <thead>\n",
              "    <tr style=\"text-align: right;\">\n",
              "      <th></th>\n",
              "      <th>meter_reading</th>\n",
              "      <th>primary_use</th>\n",
              "      <th>square_feet</th>\n",
              "      <th>year_built</th>\n",
              "      <th>floor_count</th>\n",
              "      <th>air_temperature</th>\n",
              "      <th>cloud_coverage</th>\n",
              "      <th>dew_temperature</th>\n",
              "      <th>precip_depth_1_hr</th>\n",
              "      <th>sea_level_pressure</th>\n",
              "      <th>wind_direction</th>\n",
              "      <th>wind_speed</th>\n",
              "    </tr>\n",
              "  </thead>\n",
              "  <tbody>\n",
              "    <tr>\n",
              "      <th>0</th>\n",
              "      <td>237.749127</td>\n",
              "      <td>Education</td>\n",
              "      <td>7432</td>\n",
              "      <td>2008.0</td>\n",
              "      <td>NaN</td>\n",
              "      <td>22.744816</td>\n",
              "      <td>2.998727</td>\n",
              "      <td>17.379328</td>\n",
              "      <td>1.240589</td>\n",
              "      <td>1017.949437</td>\n",
              "      <td>152.521015</td>\n",
              "      <td>3.391472</td>\n",
              "    </tr>\n",
              "    <tr>\n",
              "      <th>1</th>\n",
              "      <td>118.553743</td>\n",
              "      <td>Education</td>\n",
              "      <td>2720</td>\n",
              "      <td>2004.0</td>\n",
              "      <td>NaN</td>\n",
              "      <td>22.744816</td>\n",
              "      <td>2.998727</td>\n",
              "      <td>17.379328</td>\n",
              "      <td>1.240589</td>\n",
              "      <td>1017.949437</td>\n",
              "      <td>152.521015</td>\n",
              "      <td>3.391472</td>\n",
              "    </tr>\n",
              "    <tr>\n",
              "      <th>2</th>\n",
              "      <td>23.626500</td>\n",
              "      <td>Education</td>\n",
              "      <td>5376</td>\n",
              "      <td>1991.0</td>\n",
              "      <td>NaN</td>\n",
              "      <td>22.744816</td>\n",
              "      <td>2.998727</td>\n",
              "      <td>17.379328</td>\n",
              "      <td>1.240589</td>\n",
              "      <td>1017.949437</td>\n",
              "      <td>152.521015</td>\n",
              "      <td>3.391472</td>\n",
              "    </tr>\n",
              "    <tr>\n",
              "      <th>3</th>\n",
              "      <td>382.736016</td>\n",
              "      <td>Education</td>\n",
              "      <td>23685</td>\n",
              "      <td>2002.0</td>\n",
              "      <td>NaN</td>\n",
              "      <td>22.744816</td>\n",
              "      <td>2.998727</td>\n",
              "      <td>17.379328</td>\n",
              "      <td>1.240589</td>\n",
              "      <td>1017.949437</td>\n",
              "      <td>152.521015</td>\n",
              "      <td>3.391472</td>\n",
              "    </tr>\n",
              "    <tr>\n",
              "      <th>4</th>\n",
              "      <td>1579.174237</td>\n",
              "      <td>Education</td>\n",
              "      <td>116607</td>\n",
              "      <td>1975.0</td>\n",
              "      <td>NaN</td>\n",
              "      <td>22.744816</td>\n",
              "      <td>2.998727</td>\n",
              "      <td>17.379328</td>\n",
              "      <td>1.240589</td>\n",
              "      <td>1017.949437</td>\n",
              "      <td>152.521015</td>\n",
              "      <td>3.391472</td>\n",
              "    </tr>\n",
              "  </tbody>\n",
              "</table>\n",
              "</div>\n",
              "      <button class=\"colab-df-convert\" onclick=\"convertToInteractive('df-b32ecc43-38c4-4253-a24d-b3d7bcf28bad')\"\n",
              "              title=\"Convert this dataframe to an interactive table.\"\n",
              "              style=\"display:none;\">\n",
              "        \n",
              "  <svg xmlns=\"http://www.w3.org/2000/svg\" height=\"24px\"viewBox=\"0 0 24 24\"\n",
              "       width=\"24px\">\n",
              "    <path d=\"M0 0h24v24H0V0z\" fill=\"none\"/>\n",
              "    <path d=\"M18.56 5.44l.94 2.06.94-2.06 2.06-.94-2.06-.94-.94-2.06-.94 2.06-2.06.94zm-11 1L8.5 8.5l.94-2.06 2.06-.94-2.06-.94L8.5 2.5l-.94 2.06-2.06.94zm10 10l.94 2.06.94-2.06 2.06-.94-2.06-.94-.94-2.06-.94 2.06-2.06.94z\"/><path d=\"M17.41 7.96l-1.37-1.37c-.4-.4-.92-.59-1.43-.59-.52 0-1.04.2-1.43.59L10.3 9.45l-7.72 7.72c-.78.78-.78 2.05 0 2.83L4 21.41c.39.39.9.59 1.41.59.51 0 1.02-.2 1.41-.59l7.78-7.78 2.81-2.81c.8-.78.8-2.07 0-2.86zM5.41 20L4 18.59l7.72-7.72 1.47 1.35L5.41 20z\"/>\n",
              "  </svg>\n",
              "      </button>\n",
              "      \n",
              "  <style>\n",
              "    .colab-df-container {\n",
              "      display:flex;\n",
              "      flex-wrap:wrap;\n",
              "      gap: 12px;\n",
              "    }\n",
              "\n",
              "    .colab-df-convert {\n",
              "      background-color: #E8F0FE;\n",
              "      border: none;\n",
              "      border-radius: 50%;\n",
              "      cursor: pointer;\n",
              "      display: none;\n",
              "      fill: #1967D2;\n",
              "      height: 32px;\n",
              "      padding: 0 0 0 0;\n",
              "      width: 32px;\n",
              "    }\n",
              "\n",
              "    .colab-df-convert:hover {\n",
              "      background-color: #E2EBFA;\n",
              "      box-shadow: 0px 1px 2px rgba(60, 64, 67, 0.3), 0px 1px 3px 1px rgba(60, 64, 67, 0.15);\n",
              "      fill: #174EA6;\n",
              "    }\n",
              "\n",
              "    [theme=dark] .colab-df-convert {\n",
              "      background-color: #3B4455;\n",
              "      fill: #D2E3FC;\n",
              "    }\n",
              "\n",
              "    [theme=dark] .colab-df-convert:hover {\n",
              "      background-color: #434B5C;\n",
              "      box-shadow: 0px 1px 3px 1px rgba(0, 0, 0, 0.15);\n",
              "      filter: drop-shadow(0px 1px 2px rgba(0, 0, 0, 0.3));\n",
              "      fill: #FFFFFF;\n",
              "    }\n",
              "  </style>\n",
              "\n",
              "      <script>\n",
              "        const buttonEl =\n",
              "          document.querySelector('#df-b32ecc43-38c4-4253-a24d-b3d7bcf28bad button.colab-df-convert');\n",
              "        buttonEl.style.display =\n",
              "          google.colab.kernel.accessAllowed ? 'block' : 'none';\n",
              "\n",
              "        async function convertToInteractive(key) {\n",
              "          const element = document.querySelector('#df-b32ecc43-38c4-4253-a24d-b3d7bcf28bad');\n",
              "          const dataTable =\n",
              "            await google.colab.kernel.invokeFunction('convertToInteractive',\n",
              "                                                     [key], {});\n",
              "          if (!dataTable) return;\n",
              "\n",
              "          const docLinkHtml = 'Like what you see? Visit the ' +\n",
              "            '<a target=\"_blank\" href=https://colab.research.google.com/notebooks/data_table.ipynb>data table notebook</a>'\n",
              "            + ' to learn more about interactive tables.';\n",
              "          element.innerHTML = '';\n",
              "          dataTable['output_type'] = 'display_data';\n",
              "          await google.colab.output.renderOutput(dataTable, element);\n",
              "          const docLink = document.createElement('div');\n",
              "          docLink.innerHTML = docLinkHtml;\n",
              "          element.appendChild(docLink);\n",
              "        }\n",
              "      </script>\n",
              "    </div>\n",
              "  </div>\n",
              "  "
            ]
          },
          "metadata": {},
          "execution_count": 2
        }
      ]
    },
    {
      "cell_type": "code",
      "source": [
        "#Melihat informasi data\n",
        "df.info()"
      ],
      "metadata": {
        "id": "fuTorLV6l98f",
        "colab": {
          "base_uri": "https://localhost:8080/"
        },
        "outputId": "841743a8-e04b-433f-ece1-ac4f2b8a9c75"
      },
      "execution_count": null,
      "outputs": [
        {
          "output_type": "stream",
          "name": "stdout",
          "text": [
            "<class 'pandas.core.frame.DataFrame'>\n",
            "RangeIndex: 1413 entries, 0 to 1412\n",
            "Data columns (total 12 columns):\n",
            " #   Column              Non-Null Count  Dtype  \n",
            "---  ------              --------------  -----  \n",
            " 0   meter_reading       1413 non-null   float64\n",
            " 1   primary_use         1413 non-null   object \n",
            " 2   square_feet         1413 non-null   int64  \n",
            " 3   year_built          663 non-null    float64\n",
            " 4   floor_count         352 non-null    float64\n",
            " 5   air_temperature     1413 non-null   float64\n",
            " 6   cloud_coverage      1396 non-null   float64\n",
            " 7   dew_temperature     1413 non-null   float64\n",
            " 8   precip_depth_1_hr   1237 non-null   float64\n",
            " 9   sea_level_pressure  1324 non-null   float64\n",
            " 10  wind_direction      1413 non-null   float64\n",
            " 11  wind_speed          1413 non-null   float64\n",
            "dtypes: float64(10), int64(1), object(1)\n",
            "memory usage: 132.6+ KB\n"
          ]
        }
      ]
    },
    {
      "cell_type": "code",
      "source": [
        "df.head()"
      ],
      "metadata": {
        "colab": {
          "base_uri": "https://localhost:8080/",
          "height": 206
        },
        "id": "v9aX3XKAfFli",
        "outputId": "11a0a72e-bccf-4f88-a2b6-072f8f709c1e"
      },
      "execution_count": null,
      "outputs": [
        {
          "output_type": "execute_result",
          "data": {
            "text/plain": [
              "   meter_reading primary_use  square_feet  year_built  floor_count  \\\n",
              "0     237.749127   Education         7432      2008.0          NaN   \n",
              "1     118.553743   Education         2720      2004.0          NaN   \n",
              "2      23.626500   Education         5376      1991.0          NaN   \n",
              "3     382.736016   Education        23685      2002.0          NaN   \n",
              "4    1579.174237   Education       116607      1975.0          NaN   \n",
              "\n",
              "   air_temperature  cloud_coverage  dew_temperature  precip_depth_1_hr  \\\n",
              "0        22.744816        2.998727        17.379328           1.240589   \n",
              "1        22.744816        2.998727        17.379328           1.240589   \n",
              "2        22.744816        2.998727        17.379328           1.240589   \n",
              "3        22.744816        2.998727        17.379328           1.240589   \n",
              "4        22.744816        2.998727        17.379328           1.240589   \n",
              "\n",
              "   sea_level_pressure  wind_direction  wind_speed  \n",
              "0         1017.949437      152.521015    3.391472  \n",
              "1         1017.949437      152.521015    3.391472  \n",
              "2         1017.949437      152.521015    3.391472  \n",
              "3         1017.949437      152.521015    3.391472  \n",
              "4         1017.949437      152.521015    3.391472  "
            ],
            "text/html": [
              "\n",
              "  <div id=\"df-addc3697-f274-4091-a8c8-02fcc9933650\">\n",
              "    <div class=\"colab-df-container\">\n",
              "      <div>\n",
              "<style scoped>\n",
              "    .dataframe tbody tr th:only-of-type {\n",
              "        vertical-align: middle;\n",
              "    }\n",
              "\n",
              "    .dataframe tbody tr th {\n",
              "        vertical-align: top;\n",
              "    }\n",
              "\n",
              "    .dataframe thead th {\n",
              "        text-align: right;\n",
              "    }\n",
              "</style>\n",
              "<table border=\"1\" class=\"dataframe\">\n",
              "  <thead>\n",
              "    <tr style=\"text-align: right;\">\n",
              "      <th></th>\n",
              "      <th>meter_reading</th>\n",
              "      <th>primary_use</th>\n",
              "      <th>square_feet</th>\n",
              "      <th>year_built</th>\n",
              "      <th>floor_count</th>\n",
              "      <th>air_temperature</th>\n",
              "      <th>cloud_coverage</th>\n",
              "      <th>dew_temperature</th>\n",
              "      <th>precip_depth_1_hr</th>\n",
              "      <th>sea_level_pressure</th>\n",
              "      <th>wind_direction</th>\n",
              "      <th>wind_speed</th>\n",
              "    </tr>\n",
              "  </thead>\n",
              "  <tbody>\n",
              "    <tr>\n",
              "      <th>0</th>\n",
              "      <td>237.749127</td>\n",
              "      <td>Education</td>\n",
              "      <td>7432</td>\n",
              "      <td>2008.0</td>\n",
              "      <td>NaN</td>\n",
              "      <td>22.744816</td>\n",
              "      <td>2.998727</td>\n",
              "      <td>17.379328</td>\n",
              "      <td>1.240589</td>\n",
              "      <td>1017.949437</td>\n",
              "      <td>152.521015</td>\n",
              "      <td>3.391472</td>\n",
              "    </tr>\n",
              "    <tr>\n",
              "      <th>1</th>\n",
              "      <td>118.553743</td>\n",
              "      <td>Education</td>\n",
              "      <td>2720</td>\n",
              "      <td>2004.0</td>\n",
              "      <td>NaN</td>\n",
              "      <td>22.744816</td>\n",
              "      <td>2.998727</td>\n",
              "      <td>17.379328</td>\n",
              "      <td>1.240589</td>\n",
              "      <td>1017.949437</td>\n",
              "      <td>152.521015</td>\n",
              "      <td>3.391472</td>\n",
              "    </tr>\n",
              "    <tr>\n",
              "      <th>2</th>\n",
              "      <td>23.626500</td>\n",
              "      <td>Education</td>\n",
              "      <td>5376</td>\n",
              "      <td>1991.0</td>\n",
              "      <td>NaN</td>\n",
              "      <td>22.744816</td>\n",
              "      <td>2.998727</td>\n",
              "      <td>17.379328</td>\n",
              "      <td>1.240589</td>\n",
              "      <td>1017.949437</td>\n",
              "      <td>152.521015</td>\n",
              "      <td>3.391472</td>\n",
              "    </tr>\n",
              "    <tr>\n",
              "      <th>3</th>\n",
              "      <td>382.736016</td>\n",
              "      <td>Education</td>\n",
              "      <td>23685</td>\n",
              "      <td>2002.0</td>\n",
              "      <td>NaN</td>\n",
              "      <td>22.744816</td>\n",
              "      <td>2.998727</td>\n",
              "      <td>17.379328</td>\n",
              "      <td>1.240589</td>\n",
              "      <td>1017.949437</td>\n",
              "      <td>152.521015</td>\n",
              "      <td>3.391472</td>\n",
              "    </tr>\n",
              "    <tr>\n",
              "      <th>4</th>\n",
              "      <td>1579.174237</td>\n",
              "      <td>Education</td>\n",
              "      <td>116607</td>\n",
              "      <td>1975.0</td>\n",
              "      <td>NaN</td>\n",
              "      <td>22.744816</td>\n",
              "      <td>2.998727</td>\n",
              "      <td>17.379328</td>\n",
              "      <td>1.240589</td>\n",
              "      <td>1017.949437</td>\n",
              "      <td>152.521015</td>\n",
              "      <td>3.391472</td>\n",
              "    </tr>\n",
              "  </tbody>\n",
              "</table>\n",
              "</div>\n",
              "      <button class=\"colab-df-convert\" onclick=\"convertToInteractive('df-addc3697-f274-4091-a8c8-02fcc9933650')\"\n",
              "              title=\"Convert this dataframe to an interactive table.\"\n",
              "              style=\"display:none;\">\n",
              "        \n",
              "  <svg xmlns=\"http://www.w3.org/2000/svg\" height=\"24px\"viewBox=\"0 0 24 24\"\n",
              "       width=\"24px\">\n",
              "    <path d=\"M0 0h24v24H0V0z\" fill=\"none\"/>\n",
              "    <path d=\"M18.56 5.44l.94 2.06.94-2.06 2.06-.94-2.06-.94-.94-2.06-.94 2.06-2.06.94zm-11 1L8.5 8.5l.94-2.06 2.06-.94-2.06-.94L8.5 2.5l-.94 2.06-2.06.94zm10 10l.94 2.06.94-2.06 2.06-.94-2.06-.94-.94-2.06-.94 2.06-2.06.94z\"/><path d=\"M17.41 7.96l-1.37-1.37c-.4-.4-.92-.59-1.43-.59-.52 0-1.04.2-1.43.59L10.3 9.45l-7.72 7.72c-.78.78-.78 2.05 0 2.83L4 21.41c.39.39.9.59 1.41.59.51 0 1.02-.2 1.41-.59l7.78-7.78 2.81-2.81c.8-.78.8-2.07 0-2.86zM5.41 20L4 18.59l7.72-7.72 1.47 1.35L5.41 20z\"/>\n",
              "  </svg>\n",
              "      </button>\n",
              "      \n",
              "  <style>\n",
              "    .colab-df-container {\n",
              "      display:flex;\n",
              "      flex-wrap:wrap;\n",
              "      gap: 12px;\n",
              "    }\n",
              "\n",
              "    .colab-df-convert {\n",
              "      background-color: #E8F0FE;\n",
              "      border: none;\n",
              "      border-radius: 50%;\n",
              "      cursor: pointer;\n",
              "      display: none;\n",
              "      fill: #1967D2;\n",
              "      height: 32px;\n",
              "      padding: 0 0 0 0;\n",
              "      width: 32px;\n",
              "    }\n",
              "\n",
              "    .colab-df-convert:hover {\n",
              "      background-color: #E2EBFA;\n",
              "      box-shadow: 0px 1px 2px rgba(60, 64, 67, 0.3), 0px 1px 3px 1px rgba(60, 64, 67, 0.15);\n",
              "      fill: #174EA6;\n",
              "    }\n",
              "\n",
              "    [theme=dark] .colab-df-convert {\n",
              "      background-color: #3B4455;\n",
              "      fill: #D2E3FC;\n",
              "    }\n",
              "\n",
              "    [theme=dark] .colab-df-convert:hover {\n",
              "      background-color: #434B5C;\n",
              "      box-shadow: 0px 1px 3px 1px rgba(0, 0, 0, 0.15);\n",
              "      filter: drop-shadow(0px 1px 2px rgba(0, 0, 0, 0.3));\n",
              "      fill: #FFFFFF;\n",
              "    }\n",
              "  </style>\n",
              "\n",
              "      <script>\n",
              "        const buttonEl =\n",
              "          document.querySelector('#df-addc3697-f274-4091-a8c8-02fcc9933650 button.colab-df-convert');\n",
              "        buttonEl.style.display =\n",
              "          google.colab.kernel.accessAllowed ? 'block' : 'none';\n",
              "\n",
              "        async function convertToInteractive(key) {\n",
              "          const element = document.querySelector('#df-addc3697-f274-4091-a8c8-02fcc9933650');\n",
              "          const dataTable =\n",
              "            await google.colab.kernel.invokeFunction('convertToInteractive',\n",
              "                                                     [key], {});\n",
              "          if (!dataTable) return;\n",
              "\n",
              "          const docLinkHtml = 'Like what you see? Visit the ' +\n",
              "            '<a target=\"_blank\" href=https://colab.research.google.com/notebooks/data_table.ipynb>data table notebook</a>'\n",
              "            + ' to learn more about interactive tables.';\n",
              "          element.innerHTML = '';\n",
              "          dataTable['output_type'] = 'display_data';\n",
              "          await google.colab.output.renderOutput(dataTable, element);\n",
              "          const docLink = document.createElement('div');\n",
              "          docLink.innerHTML = docLinkHtml;\n",
              "          element.appendChild(docLink);\n",
              "        }\n",
              "      </script>\n",
              "    </div>\n",
              "  </div>\n",
              "  "
            ]
          },
          "metadata": {},
          "execution_count": 4
        }
      ]
    },
    {
      "cell_type": "markdown",
      "source": [
        "# **Pre Processing**"
      ],
      "metadata": {
        "id": "ZkDfqKsbmNRE"
      }
    },
    {
      "cell_type": "code",
      "source": [
        "#Drop duplicates\n",
        "df.shape #(lihat shape)\n",
        "df.drop_duplicates()\n",
        "df.shape #recheck shape"
      ],
      "metadata": {
        "id": "wb_Bl2RqmfPe",
        "colab": {
          "base_uri": "https://localhost:8080/"
        },
        "outputId": "0bfaf168-bdab-4872-b61e-920df6b478be"
      },
      "execution_count": null,
      "outputs": [
        {
          "output_type": "execute_result",
          "data": {
            "text/plain": [
              "(1413, 12)"
            ]
          },
          "metadata": {},
          "execution_count": 5
        }
      ]
    },
    {
      "cell_type": "code",
      "source": [
        "#Missing Values for every colomn\n",
        "df.isnull().sum()"
      ],
      "metadata": {
        "id": "7vw1Q2ftuF9I",
        "colab": {
          "base_uri": "https://localhost:8080/"
        },
        "outputId": "602c1c87-f31c-4f19-c2b1-95219932f255"
      },
      "execution_count": null,
      "outputs": [
        {
          "output_type": "execute_result",
          "data": {
            "text/plain": [
              "meter_reading            0\n",
              "primary_use              0\n",
              "square_feet              0\n",
              "year_built             750\n",
              "floor_count           1061\n",
              "air_temperature          0\n",
              "cloud_coverage          17\n",
              "dew_temperature          0\n",
              "precip_depth_1_hr      176\n",
              "sea_level_pressure      89\n",
              "wind_direction           0\n",
              "wind_speed               0\n",
              "dtype: int64"
            ]
          },
          "metadata": {},
          "execution_count": 6
        }
      ]
    },
    {
      "cell_type": "code",
      "source": [
        "# Mengubah tipe data\n",
        "df['primary_use'] = df['primary_use'].astype('category')"
      ],
      "metadata": {
        "id": "0dtIzkvAXI8J"
      },
      "execution_count": null,
      "outputs": []
    },
    {
      "cell_type": "markdown",
      "source": [
        "Note:\n",
        "* Terdapat tipe data yang perlu diperbaiki, yaitu primary_use.\n",
        "* primary_use yang awalnya bertipe data object seharusnya bertipe data category."
      ],
      "metadata": {
        "id": "3130DwNI1s_Z"
      }
    },
    {
      "cell_type": "code",
      "source": [
        "#Handling missing values: drop row \n",
        "df3 = df.drop(columns=['year_built','floor_count'])"
      ],
      "metadata": {
        "id": "ecKavQNsuXxA"
      },
      "execution_count": null,
      "outputs": []
    },
    {
      "cell_type": "code",
      "source": [
        "df3.info()"
      ],
      "metadata": {
        "colab": {
          "base_uri": "https://localhost:8080/"
        },
        "id": "yvt0H2tGuv2z",
        "outputId": "f061d227-85f6-4e61-960b-8eccf7734ae8"
      },
      "execution_count": null,
      "outputs": [
        {
          "output_type": "stream",
          "name": "stdout",
          "text": [
            "<class 'pandas.core.frame.DataFrame'>\n",
            "RangeIndex: 1413 entries, 0 to 1412\n",
            "Data columns (total 10 columns):\n",
            " #   Column              Non-Null Count  Dtype   \n",
            "---  ------              --------------  -----   \n",
            " 0   meter_reading       1413 non-null   float64 \n",
            " 1   primary_use         1413 non-null   category\n",
            " 2   square_feet         1413 non-null   int64   \n",
            " 3   air_temperature     1413 non-null   float64 \n",
            " 4   cloud_coverage      1396 non-null   float64 \n",
            " 5   dew_temperature     1413 non-null   float64 \n",
            " 6   precip_depth_1_hr   1237 non-null   float64 \n",
            " 7   sea_level_pressure  1324 non-null   float64 \n",
            " 8   wind_direction      1413 non-null   float64 \n",
            " 9   wind_speed          1413 non-null   float64 \n",
            "dtypes: category(1), float64(8), int64(1)\n",
            "memory usage: 101.5 KB\n"
          ]
        }
      ]
    },
    {
      "cell_type": "markdown",
      "source": [
        "Note:\n",
        "Pada df3, kami menghapus variabel 'year_built' dan 'floor_count' karena jumlah missing values pada kedua kolom yang ada cukup banyak variabel tersebut kami anggap tidak relevan dengan tujuan analisis kami"
      ],
      "metadata": {
        "id": "NSEWWV9Lhzxj"
      }
    },
    {
      "cell_type": "code",
      "source": [
        "df3.isnull().sum()"
      ],
      "metadata": {
        "colab": {
          "base_uri": "https://localhost:8080/"
        },
        "id": "Pi6kYhT-u4jT",
        "outputId": "06a7a652-6afa-4c0e-8eb1-65d9fd564d04"
      },
      "execution_count": null,
      "outputs": [
        {
          "output_type": "execute_result",
          "data": {
            "text/plain": [
              "meter_reading           0\n",
              "primary_use             0\n",
              "square_feet             0\n",
              "air_temperature         0\n",
              "cloud_coverage         17\n",
              "dew_temperature         0\n",
              "precip_depth_1_hr     176\n",
              "sea_level_pressure     89\n",
              "wind_direction          0\n",
              "wind_speed              0\n",
              "dtype: int64"
            ]
          },
          "metadata": {},
          "execution_count": 10
        }
      ]
    },
    {
      "cell_type": "code",
      "source": [
        "sns.distplot(df3['cloud_coverage'], kde=True, rug=True)"
      ],
      "metadata": {
        "colab": {
          "base_uri": "https://localhost:8080/",
          "height": 303
        },
        "id": "fccQaltuu-Lt",
        "outputId": "c5715b06-2987-4d7f-d4ee-2c74715dfd63"
      },
      "execution_count": null,
      "outputs": [
        {
          "output_type": "execute_result",
          "data": {
            "text/plain": [
              "<matplotlib.axes._subplots.AxesSubplot at 0x7f5351f4e210>"
            ]
          },
          "metadata": {},
          "execution_count": 11
        },
        {
          "output_type": "display_data",
          "data": {
            "text/plain": [
              "<Figure size 432x288 with 1 Axes>"
            ],
            "image/png": "[encoded data removed]"
          },
          "metadata": {}
        }
      ]
    },
    {
      "cell_type": "code",
      "source": [
        "sns.distplot(df3['precip_depth_1_hr'], kde=True, rug=True)"
      ],
      "metadata": {
        "colab": {
          "base_uri": "https://localhost:8080/",
          "height": 303
        },
        "id": "ntxhJm9-vso5",
        "outputId": "c890e05a-b8e8-4fa5-d358-35b4e02af0c7"
      },
      "execution_count": null,
      "outputs": [
        {
          "output_type": "execute_result",
          "data": {
            "text/plain": [
              "<matplotlib.axes._subplots.AxesSubplot at 0x7f5343395110>"
            ]
          },
          "metadata": {},
          "execution_count": 12
        },
        {
          "output_type": "display_data",
          "data": {
            "text/plain": [
              "<Figure size 432x288 with 1 Axes>"
            ],
            "image/png": "[encoded data removed]"
          },
          "metadata": {}
        }
      ]
    },
    {
      "cell_type": "code",
      "source": [
        "sns.distplot(df3['sea_level_pressure'], kde=True, rug=True)"
      ],
      "metadata": {
        "colab": {
          "base_uri": "https://localhost:8080/",
          "height": 303
        },
        "id": "iwbZ6x6Jvt2x",
        "outputId": "426438d5-00ee-4596-a98c-5175d79a8522"
      },
      "execution_count": null,
      "outputs": [
        {
          "output_type": "execute_result",
          "data": {
            "text/plain": [
              "<matplotlib.axes._subplots.AxesSubplot at 0x7f5342d9fad0>"
            ]
          },
          "metadata": {},
          "execution_count": 13
        },
        {
          "output_type": "display_data",
          "data": {
            "text/plain": [
              "<Figure size 432x288 with 1 Axes>"
            ],
            "image/png": "[encoded data removed]"
          },
          "metadata": {}
        }
      ]
    },
    {
      "cell_type": "code",
      "source": [
        "df3['cloud_coverage'] = df3['cloud_coverage'].fillna(df3['cloud_coverage'].mean())\n",
        "df3['precip_depth_1_hr'] = df3['precip_depth_1_hr'].fillna(df3['precip_depth_1_hr'].median())\n",
        "df3['sea_level_pressure'] = df3['sea_level_pressure'].fillna(df3['sea_level_pressure'].median())"
      ],
      "metadata": {
        "id": "9pVZr1xHwI57"
      },
      "execution_count": null,
      "outputs": []
    },
    {
      "cell_type": "markdown",
      "source": [
        "Note:\n",
        "* Pada variabel cloud_coverage terdapat data yang missing. Hal ini terlihat ketika kami melakukan pengecekan terhadap missing values di python menggunakan syntax df3.isnull().sum(). Selanjutnya, karena setelah melakukan plot distribusi pada variabel terlihat bahwa kurang terlihat kecenderungan condong kanan maupun kiri, sehingga kami mengisi missing values dengan mean-nya.\n",
        "* Pada variabel precip_depth_1_hr, kami melakukan plot distribusi dengan modul sns. Terlihat bahwa distribusi data condong kanan, sehingga kami mengisi missing values dengan nilai median.\n",
        "* Pada variabel sea_level_pressure, kami melakukan plot distribusi dengan modul sns. Terlihat bahwa distribusi data condong kiri, sehingga kami mengisi missing values dengan nilai median."
      ],
      "metadata": {
        "id": "rMTe594m10pi"
      }
    },
    {
      "cell_type": "code",
      "source": [
        "df4 = df3"
      ],
      "metadata": {
        "id": "SXsJ4d05gMX8"
      },
      "execution_count": null,
      "outputs": []
    },
    {
      "cell_type": "code",
      "source": [
        "df4.isnull().sum()"
      ],
      "metadata": {
        "colab": {
          "base_uri": "https://localhost:8080/"
        },
        "id": "QhM_41w-wlhg",
        "outputId": "d7d6b5b3-e1f9-46e4-e5da-5692197d9d6f"
      },
      "execution_count": null,
      "outputs": [
        {
          "output_type": "execute_result",
          "data": {
            "text/plain": [
              "meter_reading         0\n",
              "primary_use           0\n",
              "square_feet           0\n",
              "air_temperature       0\n",
              "cloud_coverage        0\n",
              "dew_temperature       0\n",
              "precip_depth_1_hr     0\n",
              "sea_level_pressure    0\n",
              "wind_direction        0\n",
              "wind_speed            0\n",
              "dtype: int64"
            ]
          },
          "metadata": {},
          "execution_count": 16
        }
      ]
    },
    {
      "cell_type": "markdown",
      "source": [
        "Berdasarkan output tersebut, diperoleh bahwa data sudah bersih dari missing values"
      ],
      "metadata": {
        "id": "nTje43-kiWI_"
      }
    },
    {
      "cell_type": "code",
      "source": [
        "df4.info()"
      ],
      "metadata": {
        "id": "vRIwGBo_mtI_",
        "colab": {
          "base_uri": "https://localhost:8080/"
        },
        "outputId": "64278c13-52a5-480a-aaba-badc1bb30d72"
      },
      "execution_count": null,
      "outputs": [
        {
          "output_type": "stream",
          "name": "stdout",
          "text": [
            "<class 'pandas.core.frame.DataFrame'>\n",
            "RangeIndex: 1413 entries, 0 to 1412\n",
            "Data columns (total 10 columns):\n",
            " #   Column              Non-Null Count  Dtype   \n",
            "---  ------              --------------  -----   \n",
            " 0   meter_reading       1413 non-null   float64 \n",
            " 1   primary_use         1413 non-null   category\n",
            " 2   square_feet         1413 non-null   int64   \n",
            " 3   air_temperature     1413 non-null   float64 \n",
            " 4   cloud_coverage      1413 non-null   float64 \n",
            " 5   dew_temperature     1413 non-null   float64 \n",
            " 6   precip_depth_1_hr   1413 non-null   float64 \n",
            " 7   sea_level_pressure  1413 non-null   float64 \n",
            " 8   wind_direction      1413 non-null   float64 \n",
            " 9   wind_speed          1413 non-null   float64 \n",
            "dtypes: category(1), float64(8), int64(1)\n",
            "memory usage: 101.5 KB\n"
          ]
        }
      ]
    },
    {
      "cell_type": "markdown",
      "source": [
        "Note :\n",
        "\n",
        "- Tipe data sudah sesuai dengan yang seharusnya."
      ],
      "metadata": {
        "id": "rKHc17wMmv93"
      }
    },
    {
      "cell_type": "markdown",
      "source": [
        "# **EDA**"
      ],
      "metadata": {
        "id": "ejxM9gyHmyjR"
      }
    },
    {
      "cell_type": "code",
      "source": [
        "plt.figure(figsize=(8,8))\n",
        "sns.countplot(x = 'primary_use', data = df4).set_title(\"Frekuensi kategori primary_use\", fontsize=12)\n",
        "plt.xticks(rotation=90)\n",
        "plt.xlabel('Primary_use')\n",
        "plt.ylabel('Count')\n",
        "plt.show()"
      ],
      "metadata": {
        "id": "zqSsPP9jnOhm",
        "colab": {
          "base_uri": "https://localhost:8080/",
          "height": 681
        },
        "outputId": "3db5de8d-0267-46a3-95f3-8277aaaf4646"
      },
      "execution_count": null,
      "outputs": [
        {
          "output_type": "display_data",
          "data": {
            "text/plain": [
              "<Figure size 576x576 with 1 Axes>"
            ],
            "image/png": "[encoded data removed]"
          },
          "metadata": {}
        }
      ]
    },
    {
      "cell_type": "markdown",
      "source": [
        "Dari grafik di atas, terlihat bahwa record yang disimpan paling banyak adalah \n",
        "gedung yang digunakan sebagai tempat Education, yaitu sebanyak 537 bangunan. Kemudian empat bangunan lain yang record-nya tinggi adalah Office, Entertaiment/publict assembly, Public services, dan Lodging/residential."
      ],
      "metadata": {
        "id": "MWTqdQKjqyx8"
      }
    },
    {
      "cell_type": "code",
      "source": [
        "plt.figure(figsize=(10,6))\n",
        "sns.barplot(x='primary_use',y='meter_reading',data=df4)\n",
        "plt.xticks(rotation='vertical')\n",
        "plt.show()"
      ],
      "metadata": {
        "colab": {
          "base_uri": "https://localhost:8080/",
          "height": 557
        },
        "id": "PpLs8arTo_Vu",
        "outputId": "2ae05e01-3cf1-40f6-bde4-41fe8c479e25"
      },
      "execution_count": null,
      "outputs": [
        {
          "output_type": "display_data",
          "data": {
            "text/plain": [
              "<Figure size 720x432 with 1 Axes>"
            ],
            "image/png": "[encoded data removed]"
          },
          "metadata": {}
        }
      ]
    },
    {
      "cell_type": "markdown",
      "source": [
        "Dilihat dari grafik di atas, Healtcare, Retail, dan Education menjadi penggunaan listrik terbanyak. Terlihat pula untuk Healtcare, Retail, Utility, dan Other memiliki outier yang jaraknya jauh dari rata-ratanya."
      ],
      "metadata": {
        "id": "SemvX9vFrgqk"
      }
    },
    {
      "cell_type": "code",
      "source": [
        "plt.figure(figsize=(10,4))\n",
        "sns.histplot(df4['square_feet'],kde=True,color='red',bins=100)"
      ],
      "metadata": {
        "colab": {
          "base_uri": "https://localhost:8080/",
          "height": 303
        },
        "id": "NN5a1wpupF2I",
        "outputId": "c1b1e018-75d3-4a2f-fa25-654dd7b64e14"
      },
      "execution_count": null,
      "outputs": [
        {
          "output_type": "execute_result",
          "data": {
            "text/plain": [
              "<matplotlib.axes._subplots.AxesSubplot at 0x7f5342a99050>"
            ]
          },
          "metadata": {},
          "execution_count": 20
        },
        {
          "output_type": "display_data",
          "data": {
            "text/plain": [
              "<Figure size 720x288 with 1 Axes>"
            ],
            "image/png": "[encoded data removed]"
          },
          "metadata": {}
        }
      ]
    },
    {
      "cell_type": "markdown",
      "source": [
        "Terlihat dari grafik di atas bahwa banyaknya bangunan yang terrecord menurun sejalan dengan kenaikan luas bangunan.\n",
        "\n",
        "Mayoritas bangunan berdiri dengan luas bangunan di bawah 200000 kaki persegi"
      ],
      "metadata": {
        "id": "MuD3Xt7zxI9_"
      }
    },
    {
      "cell_type": "code",
      "source": [
        "p = sns.scatterplot(data=df4, x='meter_reading', y='square_feet', hue='primary_use', legend=False)"
      ],
      "metadata": {
        "colab": {
          "base_uri": "https://localhost:8080/",
          "height": 285
        },
        "id": "OnXMxB9WpFzB",
        "outputId": "8ac1ed0f-68f1-4837-c047-6b7a6c2c1bef"
      },
      "execution_count": null,
      "outputs": [
        {
          "output_type": "display_data",
          "data": {
            "text/plain": [
              "<Figure size 432x288 with 1 Axes>"
            ],
            "image/png": "[encoded data removed]"
          },
          "metadata": {}
        }
      ]
    },
    {
      "cell_type": "markdown",
      "source": [
        "1. Terlihat bahwa bangunan cenderung memiliki luas bangunan di bawah 200000 kaki persegi dan memiliki penggunaan listrik sebesar 0-1000 kWh.\n",
        "2. Terdapat bangunan dengan luas bangunan yang cenderung kecil tetapi mengonsumsi listrik dengan sangat tinggi.\n",
        "3. Terdapat bangunan dengan luas bangunna yang tinggi, tetapi mengonsumsi daya yang cenderung rendah."
      ],
      "metadata": {
        "id": "zybOhB4Kxnrt"
      }
    },
    {
      "cell_type": "code",
      "source": [
        "p = sns.boxplot(df4['meter_reading'])"
      ],
      "metadata": {
        "colab": {
          "base_uri": "https://localhost:8080/",
          "height": 285
        },
        "id": "l1VNjn2zpo4p",
        "outputId": "af6b8869-976a-4ac1-f990-2b0a8ca10b95"
      },
      "execution_count": null,
      "outputs": [
        {
          "output_type": "display_data",
          "data": {
            "text/plain": [
              "<Figure size 432x288 with 1 Axes>"
            ],
            "image/png": "[encoded data removed]"
          },
          "metadata": {}
        }
      ]
    },
    {
      "cell_type": "code",
      "source": [
        "df4.describe(include='all')"
      ],
      "metadata": {
        "colab": {
          "base_uri": "https://localhost:8080/",
          "height": 394
        },
        "id": "GPi3_5fsqDcD",
        "outputId": "6af8c6c1-6a47-4fb7-b819-c1da0587685c"
      },
      "execution_count": null,
      "outputs": [
        {
          "output_type": "execute_result",
          "data": {
            "text/plain": [
              "        meter_reading primary_use    square_feet  air_temperature  \\\n",
              "count     1413.000000        1413    1413.000000      1413.000000   \n",
              "unique            NaN          16            NaN              NaN   \n",
              "top               NaN   Education            NaN              NaN   \n",
              "freq              NaN         537            NaN              NaN   \n",
              "mean       185.383188         NaN   92204.792640        15.697154   \n",
              "std        374.899500         NaN  111412.340117         5.416736   \n",
              "min          0.000400         NaN     283.000000         7.572136   \n",
              "25%         27.224943         NaN   22949.000000        11.058629   \n",
              "50%         74.933148         NaN   57673.000000        15.204244   \n",
              "75%        182.884848         NaN  115288.000000        21.325261   \n",
              "max       5072.323426         NaN  875000.000000        24.963702   \n",
              "\n",
              "        cloud_coverage  dew_temperature  precip_depth_1_hr  \\\n",
              "count      1413.000000      1413.000000        1413.000000   \n",
              "unique             NaN              NaN                NaN   \n",
              "top                NaN              NaN                NaN   \n",
              "freq               NaN              NaN                NaN   \n",
              "mean          2.166618         8.259831           1.151504   \n",
              "std           1.452818         4.625295           1.386802   \n",
              "min           0.059266        -0.304675           0.155325   \n",
              "25%           0.665832         4.512823           0.775686   \n",
              "50%           2.083712         8.285693           0.895980   \n",
              "75%           2.998727         9.834399           1.033215   \n",
              "max           5.671785        17.379328          11.675633   \n",
              "\n",
              "        sea_level_pressure  wind_direction   wind_speed  \n",
              "count          1413.000000     1413.000000  1413.000000  \n",
              "unique                 NaN             NaN          NaN  \n",
              "top                    NaN             NaN          NaN  \n",
              "freq                   NaN             NaN          NaN  \n",
              "mean           1016.487808      175.351051     3.564617  \n",
              "std               1.862148       24.921236     0.737746  \n",
              "min            1011.436563      123.388701     2.157103  \n",
              "25%            1016.404579      153.629430     3.100911  \n",
              "50%            1016.797495      184.295922     3.619547  \n",
              "75%            1017.949437      187.301104     3.905433  \n",
              "max            1018.052063      207.134076     5.493939  "
            ],
            "text/html": [
              "\n",
              "  <div id=\"df-fb56cdb1-8daa-45ba-9605-bcbb280cb8f0\">\n",
              "    <div class=\"colab-df-container\">\n",
              "      <div>\n",
              "<style scoped>\n",
              "    .dataframe tbody tr th:only-of-type {\n",
              "        vertical-align: middle;\n",
              "    }\n",
              "\n",
              "    .dataframe tbody tr th {\n",
              "        vertical-align: top;\n",
              "    }\n",
              "\n",
              "    .dataframe thead th {\n",
              "        text-align: right;\n",
              "    }\n",
              "</style>\n",
              "<table border=\"1\" class=\"dataframe\">\n",
              "  <thead>\n",
              "    <tr style=\"text-align: right;\">\n",
              "      <th></th>\n",
              "      <th>meter_reading</th>\n",
              "      <th>primary_use</th>\n",
              "      <th>square_feet</th>\n",
              "      <th>air_temperature</th>\n",
              "      <th>cloud_coverage</th>\n",
              "      <th>dew_temperature</th>\n",
              "      <th>precip_depth_1_hr</th>\n",
              "      <th>sea_level_pressure</th>\n",
              "      <th>wind_direction</th>\n",
              "      <th>wind_speed</th>\n",
              "    </tr>\n",
              "  </thead>\n",
              "  <tbody>\n",
              "    <tr>\n",
              "      <th>count</th>\n",
              "      <td>1413.000000</td>\n",
              "      <td>1413</td>\n",
              "      <td>1413.000000</td>\n",
              "      <td>1413.000000</td>\n",
              "      <td>1413.000000</td>\n",
              "      <td>1413.000000</td>\n",
              "      <td>1413.000000</td>\n",
              "      <td>1413.000000</td>\n",
              "      <td>1413.000000</td>\n",
              "      <td>1413.000000</td>\n",
              "    </tr>\n",
              "    <tr>\n",
              "      <th>unique</th>\n",
              "      <td>NaN</td>\n",
              "      <td>16</td>\n",
              "      <td>NaN</td>\n",
              "      <td>NaN</td>\n",
              "      <td>NaN</td>\n",
              "      <td>NaN</td>\n",
              "      <td>NaN</td>\n",
              "      <td>NaN</td>\n",
              "      <td>NaN</td>\n",
              "      <td>NaN</td>\n",
              "    </tr>\n",
              "    <tr>\n",
              "      <th>top</th>\n",
              "      <td>NaN</td>\n",
              "      <td>Education</td>\n",
              "      <td>NaN</td>\n",
              "      <td>NaN</td>\n",
              "      <td>NaN</td>\n",
              "      <td>NaN</td>\n",
              "      <td>NaN</td>\n",
              "      <td>NaN</td>\n",
              "      <td>NaN</td>\n",
              "      <td>NaN</td>\n",
              "    </tr>\n",
              "    <tr>\n",
              "      <th>freq</th>\n",
              "      <td>NaN</td>\n",
              "      <td>537</td>\n",
              "      <td>NaN</td>\n",
              "      <td>NaN</td>\n",
              "      <td>NaN</td>\n",
              "      <td>NaN</td>\n",
              "      <td>NaN</td>\n",
              "      <td>NaN</td>\n",
              "      <td>NaN</td>\n",
              "      <td>NaN</td>\n",
              "    </tr>\n",
              "    <tr>\n",
              "      <th>mean</th>\n",
              "      <td>185.383188</td>\n",
              "      <td>NaN</td>\n",
              "      <td>92204.792640</td>\n",
              "      <td>15.697154</td>\n",
              "      <td>2.166618</td>\n",
              "      <td>8.259831</td>\n",
              "      <td>1.151504</td>\n",
              "      <td>1016.487808</td>\n",
              "      <td>175.351051</td>\n",
              "      <td>3.564617</td>\n",
              "    </tr>\n",
              "    <tr>\n",
              "      <th>std</th>\n",
              "      <td>374.899500</td>\n",
              "      <td>NaN</td>\n",
              "      <td>111412.340117</td>\n",
              "      <td>5.416736</td>\n",
              "      <td>1.452818</td>\n",
              "      <td>4.625295</td>\n",
              "      <td>1.386802</td>\n",
              "      <td>1.862148</td>\n",
              "      <td>24.921236</td>\n",
              "      <td>0.737746</td>\n",
              "    </tr>\n",
              "    <tr>\n",
              "      <th>min</th>\n",
              "      <td>0.000400</td>\n",
              "      <td>NaN</td>\n",
              "      <td>283.000000</td>\n",
              "      <td>7.572136</td>\n",
              "      <td>0.059266</td>\n",
              "      <td>-0.304675</td>\n",
              "      <td>0.155325</td>\n",
              "      <td>1011.436563</td>\n",
              "      <td>123.388701</td>\n",
              "      <td>2.157103</td>\n",
              "    </tr>\n",
              "    <tr>\n",
              "      <th>25%</th>\n",
              "      <td>27.224943</td>\n",
              "      <td>NaN</td>\n",
              "      <td>22949.000000</td>\n",
              "      <td>11.058629</td>\n",
              "      <td>0.665832</td>\n",
              "      <td>4.512823</td>\n",
              "      <td>0.775686</td>\n",
              "      <td>1016.404579</td>\n",
              "      <td>153.629430</td>\n",
              "      <td>3.100911</td>\n",
              "    </tr>\n",
              "    <tr>\n",
              "      <th>50%</th>\n",
              "      <td>74.933148</td>\n",
              "      <td>NaN</td>\n",
              "      <td>57673.000000</td>\n",
              "      <td>15.204244</td>\n",
              "      <td>2.083712</td>\n",
              "      <td>8.285693</td>\n",
              "      <td>0.895980</td>\n",
              "      <td>1016.797495</td>\n",
              "      <td>184.295922</td>\n",
              "      <td>3.619547</td>\n",
              "    </tr>\n",
              "    <tr>\n",
              "      <th>75%</th>\n",
              "      <td>182.884848</td>\n",
              "      <td>NaN</td>\n",
              "      <td>115288.000000</td>\n",
              "      <td>21.325261</td>\n",
              "      <td>2.998727</td>\n",
              "      <td>9.834399</td>\n",
              "      <td>1.033215</td>\n",
              "      <td>1017.949437</td>\n",
              "      <td>187.301104</td>\n",
              "      <td>3.905433</td>\n",
              "    </tr>\n",
              "    <tr>\n",
              "      <th>max</th>\n",
              "      <td>5072.323426</td>\n",
              "      <td>NaN</td>\n",
              "      <td>875000.000000</td>\n",
              "      <td>24.963702</td>\n",
              "      <td>5.671785</td>\n",
              "      <td>17.379328</td>\n",
              "      <td>11.675633</td>\n",
              "      <td>1018.052063</td>\n",
              "      <td>207.134076</td>\n",
              "      <td>5.493939</td>\n",
              "    </tr>\n",
              "  </tbody>\n",
              "</table>\n",
              "</div>\n",
              "      <button class=\"colab-df-convert\" onclick=\"convertToInteractive('df-fb56cdb1-8daa-45ba-9605-bcbb280cb8f0')\"\n",
              "              title=\"Convert this dataframe to an interactive table.\"\n",
              "              style=\"display:none;\">\n",
              "        \n",
              "  <svg xmlns=\"http://www.w3.org/2000/svg\" height=\"24px\"viewBox=\"0 0 24 24\"\n",
              "       width=\"24px\">\n",
              "    <path d=\"M0 0h24v24H0V0z\" fill=\"none\"/>\n",
              "    <path d=\"M18.56 5.44l.94 2.06.94-2.06 2.06-.94-2.06-.94-.94-2.06-.94 2.06-2.06.94zm-11 1L8.5 8.5l.94-2.06 2.06-.94-2.06-.94L8.5 2.5l-.94 2.06-2.06.94zm10 10l.94 2.06.94-2.06 2.06-.94-2.06-.94-.94-2.06-.94 2.06-2.06.94z\"/><path d=\"M17.41 7.96l-1.37-1.37c-.4-.4-.92-.59-1.43-.59-.52 0-1.04.2-1.43.59L10.3 9.45l-7.72 7.72c-.78.78-.78 2.05 0 2.83L4 21.41c.39.39.9.59 1.41.59.51 0 1.02-.2 1.41-.59l7.78-7.78 2.81-2.81c.8-.78.8-2.07 0-2.86zM5.41 20L4 18.59l7.72-7.72 1.47 1.35L5.41 20z\"/>\n",
              "  </svg>\n",
              "      </button>\n",
              "      \n",
              "  <style>\n",
              "    .colab-df-container {\n",
              "      display:flex;\n",
              "      flex-wrap:wrap;\n",
              "      gap: 12px;\n",
              "    }\n",
              "\n",
              "    .colab-df-convert {\n",
              "      background-color: #E8F0FE;\n",
              "      border: none;\n",
              "      border-radius: 50%;\n",
              "      cursor: pointer;\n",
              "      display: none;\n",
              "      fill: #1967D2;\n",
              "      height: 32px;\n",
              "      padding: 0 0 0 0;\n",
              "      width: 32px;\n",
              "    }\n",
              "\n",
              "    .colab-df-convert:hover {\n",
              "      background-color: #E2EBFA;\n",
              "      box-shadow: 0px 1px 2px rgba(60, 64, 67, 0.3), 0px 1px 3px 1px rgba(60, 64, 67, 0.15);\n",
              "      fill: #174EA6;\n",
              "    }\n",
              "\n",
              "    [theme=dark] .colab-df-convert {\n",
              "      background-color: #3B4455;\n",
              "      fill: #D2E3FC;\n",
              "    }\n",
              "\n",
              "    [theme=dark] .colab-df-convert:hover {\n",
              "      background-color: #434B5C;\n",
              "      box-shadow: 0px 1px 3px 1px rgba(0, 0, 0, 0.15);\n",
              "      filter: drop-shadow(0px 1px 2px rgba(0, 0, 0, 0.3));\n",
              "      fill: #FFFFFF;\n",
              "    }\n",
              "  </style>\n",
              "\n",
              "      <script>\n",
              "        const buttonEl =\n",
              "          document.querySelector('#df-fb56cdb1-8daa-45ba-9605-bcbb280cb8f0 button.colab-df-convert');\n",
              "        buttonEl.style.display =\n",
              "          google.colab.kernel.accessAllowed ? 'block' : 'none';\n",
              "\n",
              "        async function convertToInteractive(key) {\n",
              "          const element = document.querySelector('#df-fb56cdb1-8daa-45ba-9605-bcbb280cb8f0');\n",
              "          const dataTable =\n",
              "            await google.colab.kernel.invokeFunction('convertToInteractive',\n",
              "                                                     [key], {});\n",
              "          if (!dataTable) return;\n",
              "\n",
              "          const docLinkHtml = 'Like what you see? Visit the ' +\n",
              "            '<a target=\"_blank\" href=https://colab.research.google.com/notebooks/data_table.ipynb>data table notebook</a>'\n",
              "            + ' to learn more about interactive tables.';\n",
              "          element.innerHTML = '';\n",
              "          dataTable['output_type'] = 'display_data';\n",
              "          await google.colab.output.renderOutput(dataTable, element);\n",
              "          const docLink = document.createElement('div');\n",
              "          docLink.innerHTML = docLinkHtml;\n",
              "          element.appendChild(docLink);\n",
              "        }\n",
              "      </script>\n",
              "    </div>\n",
              "  </div>\n",
              "  "
            ]
          },
          "metadata": {},
          "execution_count": 23
        }
      ]
    },
    {
      "cell_type": "markdown",
      "source": [
        "Terlihat dari boxplot di atas, terdapat banyak ourlier. Bahkan nilai maksimum penggunaan listrik sampai sekitar 25 kali dari nilai rata-ratanya. Hal ini berarti bahwa sesungguhnya kebanyakan bangunan mengonsumsi listrik dengan rendah dan ada beberapa yang menggunakan listrik secara di luar kebiasaan bangunan lain."
      ],
      "metadata": {
        "id": "W7OI75sFyO2a"
      }
    },
    {
      "cell_type": "code",
      "source": [
        "sns.scatterplot(data=df4, x='air_temperature', y='meter_reading')"
      ],
      "metadata": {
        "colab": {
          "base_uri": "https://localhost:8080/",
          "height": 303
        },
        "id": "jWAkNDRZ4Bph",
        "outputId": "a8eaf71a-df24-440e-ef8f-723001fee514"
      },
      "execution_count": null,
      "outputs": [
        {
          "output_type": "execute_result",
          "data": {
            "text/plain": [
              "<matplotlib.axes._subplots.AxesSubplot at 0x7f5342874850>"
            ]
          },
          "metadata": {},
          "execution_count": 24
        },
        {
          "output_type": "display_data",
          "data": {
            "text/plain": [
              "<Figure size 432x288 with 1 Axes>"
            ],
            "image/png": "[encoded data removed]"
          },
          "metadata": {}
        }
      ]
    },
    {
      "cell_type": "code",
      "source": [
        "sns.scatterplot(data=df4, x='air_temperature', y='cloud_coverage')"
      ],
      "metadata": {
        "colab": {
          "base_uri": "https://localhost:8080/",
          "height": 303
        },
        "id": "P6YCnqs14HYR",
        "outputId": "b276532e-3d05-40f9-a6de-21ae77143d60"
      },
      "execution_count": null,
      "outputs": [
        {
          "output_type": "execute_result",
          "data": {
            "text/plain": [
              "<matplotlib.axes._subplots.AxesSubplot at 0x7f53453fe510>"
            ]
          },
          "metadata": {},
          "execution_count": 25
        },
        {
          "output_type": "display_data",
          "data": {
            "text/plain": [
              "<Figure size 432x288 with 1 Axes>"
            ],
            "image/png": "[encoded data removed]"
          },
          "metadata": {}
        }
      ]
    },
    {
      "cell_type": "code",
      "source": [
        "sns.scatterplot(data=df4, x='air_temperature', y='dew_temperature')"
      ],
      "metadata": {
        "colab": {
          "base_uri": "https://localhost:8080/",
          "height": 303
        },
        "id": "Td7cPN0z4J9T",
        "outputId": "3568b833-0f9c-4dca-a6b8-b75bf749c077"
      },
      "execution_count": null,
      "outputs": [
        {
          "output_type": "execute_result",
          "data": {
            "text/plain": [
              "<matplotlib.axes._subplots.AxesSubplot at 0x7f5342793dd0>"
            ]
          },
          "metadata": {},
          "execution_count": 26
        },
        {
          "output_type": "display_data",
          "data": {
            "text/plain": [
              "<Figure size 432x288 with 1 Axes>"
            ],
            "image/png": "[encoded data removed]"
          },
          "metadata": {}
        }
      ]
    },
    {
      "cell_type": "code",
      "source": [
        "sns.scatterplot(data=df4, x='air_temperature', y='precip_depth_1_hr')"
      ],
      "metadata": {
        "colab": {
          "base_uri": "https://localhost:8080/",
          "height": 303
        },
        "id": "-pzKE1xY4OOD",
        "outputId": "fc586b85-d907-42d8-ed63-5a23dee302ea"
      },
      "execution_count": null,
      "outputs": [
        {
          "output_type": "execute_result",
          "data": {
            "text/plain": [
              "<matplotlib.axes._subplots.AxesSubplot at 0x7f5342723090>"
            ]
          },
          "metadata": {},
          "execution_count": 27
        },
        {
          "output_type": "display_data",
          "data": {
            "text/plain": [
              "<Figure size 432x288 with 1 Axes>"
            ],
            "image/png": "[encoded data removed]"
          },
          "metadata": {}
        }
      ]
    },
    {
      "cell_type": "code",
      "source": [
        "sns.scatterplot(data=df4, x='air_temperature', y='sea_level_pressure')"
      ],
      "metadata": {
        "colab": {
          "base_uri": "https://localhost:8080/",
          "height": 303
        },
        "id": "rO1bbhHo4SvZ",
        "outputId": "05b5888d-b456-4225-95d3-86aaebe64036"
      },
      "execution_count": null,
      "outputs": [
        {
          "output_type": "execute_result",
          "data": {
            "text/plain": [
              "<matplotlib.axes._subplots.AxesSubplot at 0x7f53427dca50>"
            ]
          },
          "metadata": {},
          "execution_count": 28
        },
        {
          "output_type": "display_data",
          "data": {
            "text/plain": [
              "<Figure size 432x288 with 1 Axes>"
            ],
            "image/png": "[encoded data removed]"
          },
          "metadata": {}
        }
      ]
    },
    {
      "cell_type": "code",
      "source": [
        "sns.scatterplot(data=df4, x='air_temperature', y='wind_direction')"
      ],
      "metadata": {
        "id": "x-RuhxFt4V_5",
        "outputId": "d50eb5c4-cd56-4cda-9485-c096d7825001",
        "colab": {
          "base_uri": "https://localhost:8080/",
          "height": 303
        }
      },
      "execution_count": null,
      "outputs": [
        {
          "output_type": "execute_result",
          "data": {
            "text/plain": [
              "<matplotlib.axes._subplots.AxesSubplot at 0x7f53426ec3d0>"
            ]
          },
          "metadata": {},
          "execution_count": 29
        },
        {
          "output_type": "display_data",
          "data": {
            "text/plain": [
              "<Figure size 432x288 with 1 Axes>"
            ],
            "image/png": "[encoded data removed]"
          },
          "metadata": {}
        }
      ]
    },
    {
      "cell_type": "code",
      "source": [
        "sns.scatterplot(data=df4, x='air_temperature', y='wind_speed')"
      ],
      "metadata": {
        "colab": {
          "base_uri": "https://localhost:8080/",
          "height": 303
        },
        "id": "qUZfJ93j56zs",
        "outputId": "0a4ff69f-5081-4ac2-8925-dde453a838b9"
      },
      "execution_count": null,
      "outputs": [
        {
          "output_type": "execute_result",
          "data": {
            "text/plain": [
              "<matplotlib.axes._subplots.AxesSubplot at 0x7f53425da410>"
            ]
          },
          "metadata": {},
          "execution_count": 30
        },
        {
          "output_type": "display_data",
          "data": {
            "text/plain": [
              "<Figure size 432x288 with 1 Axes>"
            ],
            "image/png": "[encoded data removed]"
          },
          "metadata": {}
        }
      ]
    },
    {
      "cell_type": "markdown",
      "source": [
        "Terlihat pada 6 grafik diatas, dengan Y yang berubah-ubah dan X nya tetap yaitu air_temprature, didapati bahwa titik-titik yang ada berjumlah tetap, yaitu 10 titik. Seharusnya, titik yang ada adalah  +- 1000 titiknya , yang mana hal tersebut mengindikasikan bahwa data titik lebih > 10. Dengan melihat hanya terdapat 13 titik, menandakan bahwa data tersebut berkelompok sesuai dengan nilai dari air_tempraturenya. \n",
        "Dengan terdapat 13 kelompok yang sesuai dengan nilai air_temprature maka,  variabel yang lainnya, yaitu cloud_coverage,dew_temperature, precip_depth_1_hr, sea_level_pressure, wind_direction, wind_speed akan sama nilainya  sesuai dengan air_tempraturenya."
      ],
      "metadata": {
        "id": "rCDZqvf94rhw"
      }
    },
    {
      "cell_type": "markdown",
      "source": [
        "# **Pemodelan Regresi**"
      ],
      "metadata": {
        "id": "UM_eYyH7nO_P"
      }
    },
    {
      "cell_type": "code",
      "source": [
        "df4.info()"
      ],
      "metadata": {
        "id": "JRje1k-2nVOG",
        "colab": {
          "base_uri": "https://localhost:8080/"
        },
        "outputId": "406c76e4-5877-49da-cce9-f5d26e51cf60"
      },
      "execution_count": null,
      "outputs": [
        {
          "output_type": "stream",
          "name": "stdout",
          "text": [
            "<class 'pandas.core.frame.DataFrame'>\n",
            "RangeIndex: 1413 entries, 0 to 1412\n",
            "Data columns (total 10 columns):\n",
            " #   Column              Non-Null Count  Dtype   \n",
            "---  ------              --------------  -----   \n",
            " 0   meter_reading       1413 non-null   float64 \n",
            " 1   primary_use         1413 non-null   category\n",
            " 2   square_feet         1413 non-null   int64   \n",
            " 3   air_temperature     1413 non-null   float64 \n",
            " 4   cloud_coverage      1413 non-null   float64 \n",
            " 5   dew_temperature     1413 non-null   float64 \n",
            " 6   precip_depth_1_hr   1413 non-null   float64 \n",
            " 7   sea_level_pressure  1413 non-null   float64 \n",
            " 8   wind_direction      1413 non-null   float64 \n",
            " 9   wind_speed          1413 non-null   float64 \n",
            "dtypes: category(1), float64(8), int64(1)\n",
            "memory usage: 101.5 KB\n"
          ]
        }
      ]
    },
    {
      "cell_type": "code",
      "source": [
        "#HeatMap untuk menyelidiki korelasi\n",
        "corr2 = df4.corr() \n",
        "plt.figure(figsize=(12, 10))\n",
        "sns.heatmap(corr2[(corr2 >= 0.5) | (corr2 <= -0.4)],\n",
        " cmap='viridis', vmax=1.0, vmin=-1.0, linewidths=0.1,\n",
        " annot=True, annot_kws={\"size\": 8}, square=True);"
      ],
      "metadata": {
        "colab": {
          "base_uri": "https://localhost:8080/",
          "height": 689
        },
        "id": "xCVQVH1gyxQ5",
        "outputId": "9c973d69-f78f-4203-fa80-823eb31cfec6"
      },
      "execution_count": null,
      "outputs": [
        {
          "output_type": "display_data",
          "data": {
            "text/plain": [
              "<Figure size 864x720 with 2 Axes>"
            ],
            "image/png": "[encoded data removed]"
          },
          "metadata": {}
        }
      ]
    },
    {
      "cell_type": "markdown",
      "source": [
        "Interpretasi heatmap:\n",
        "\n",
        "- Nilai korelasi antar meter_reading (Y) dan square feet (variabel independen) menunjukan bahwa ada korelasi linier positif yang cukup kuat anatara meter reading dan square feet, ada kecenderungan bahwa nilai luas yang tinggi berkaitan dengan penggunaan listrik yang lebih tinggi dibandingkan luas square feet yang rendah\n",
        "\n",
        "- Dari heatmap kita dapat melihat juga korelasi antar variabel independen (multikolinearitas) dapat dilihat bahwa variabel **wind_speed** berkorelasi cukup tinggi dengan air_temperature dan wind_direction, selain itu variabel **air temperature** berkorelasi cukup tinggi dengan wind_speed, wind_direction, dan dew_temperature. Artinya, terdapat multikolinearitas pada variabel tersebut."
      ],
      "metadata": {
        "id": "YfdD6Mzj2mfK"
      }
    },
    {
      "cell_type": "markdown",
      "source": [
        "Karena itu, kita dapat menghilangkan variabel wind_speed dan air_temperature dalam pemodelan regresi untuk menghindari permasalahan multikolinearitas."
      ],
      "metadata": {
        "id": "TmCr3Qrb_bMw"
      }
    },
    {
      "cell_type": "code",
      "source": [
        "# Fitting model Regresi Sederhana\n",
        "lm = smf.ols(\"meter_reading ~ C(primary_use)+ square_feet + cloud_coverage + dew_temperature + precip_depth_1_hr + sea_level_pressure + wind_direction \", data=df4).fit()\n",
        "lm.summary()"
      ],
      "metadata": {
        "id": "BE0f--4CyWkR",
        "colab": {
          "base_uri": "https://localhost:8080/",
          "height": 904
        },
        "outputId": "d925feee-cb3c-4522-d45d-1d547d679bcb"
      },
      "execution_count": null,
      "outputs": [
        {
          "output_type": "execute_result",
          "data": {
            "text/plain": [
              "<class 'statsmodels.iolib.summary.Summary'>\n",
              "\"\"\"\n",
              "                            OLS Regression Results                            \n",
              "==============================================================================\n",
              "Dep. Variable:          meter_reading   R-squared:                       0.490\n",
              "Model:                            OLS   Adj. R-squared:                  0.482\n",
              "Method:                 Least Squares   F-statistic:                     63.54\n",
              "Date:                Fri, 18 Nov 2022   Prob (F-statistic):          7.67e-186\n",
              "Time:                        09:09:30   Log-Likelihood:                -9903.7\n",
              "No. Observations:                1413   AIC:                         1.985e+04\n",
              "Df Residuals:                    1391   BIC:                         1.997e+04\n",
              "Df Model:                          21                                         \n",
              "Covariance Type:            nonrobust                                         \n",
              "===================================================================================================================\n",
              "                                                      coef    std err          t      P>|t|      [0.025      0.975]\n",
              "-------------------------------------------------------------------------------------------------------------------\n",
              "Intercept                                        1.796e+04   5202.613      3.451      0.001    7750.428    2.82e+04\n",
              "C(primary_use)[T.Entertainment/public assembly]   -83.0677     23.507     -3.534      0.000    -129.180     -36.955\n",
              "C(primary_use)[T.Food sales and service]           28.2938    121.613      0.233      0.816    -210.270     266.858\n",
              "C(primary_use)[T.Healthcare]                       35.6287     60.347      0.590      0.555     -82.752     154.009\n",
              "C(primary_use)[T.Lodging/residential]            -100.9710     25.716     -3.926      0.000    -151.417     -50.525\n",
              "C(primary_use)[T.Manufacturing/industrial]        -27.2496     86.523     -0.315      0.753    -196.979     142.479\n",
              "C(primary_use)[T.Office]                          -29.8379     20.464     -1.458      0.145     -69.981      10.305\n",
              "C(primary_use)[T.Other]                           -41.9759     55.907     -0.751      0.453    -151.647      67.695\n",
              "C(primary_use)[T.Parking]                        -517.0277     60.191     -8.590      0.000    -635.102    -398.954\n",
              "C(primary_use)[T.Public services]                 -85.3973     25.909     -3.296      0.001    -136.221     -34.573\n",
              "C(primary_use)[T.Religious worship]               -93.2453    156.516     -0.596      0.551    -400.279     213.788\n",
              "C(primary_use)[T.Retail]                           12.8781     83.190      0.155      0.877    -150.314     176.070\n",
              "C(primary_use)[T.Services]                       -343.5615     91.487     -3.755      0.000    -523.029    -164.095\n",
              "C(primary_use)[T.Technology/science]              -33.5041    110.973     -0.302      0.763    -251.198     184.189\n",
              "C(primary_use)[T.Utility]                           7.9370    135.638      0.059      0.953    -258.140     274.014\n",
              "C(primary_use)[T.Warehouse/storage]               -79.9896     79.243     -1.009      0.313    -235.439      75.460\n",
              "square_feet                                         0.0019   6.88e-05     28.075      0.000       0.002       0.002\n",
              "cloud_coverage                                     20.3200      5.342      3.804      0.000       9.840      30.800\n",
              "dew_temperature                                    10.8857      2.312      4.708      0.000       6.350      15.422\n",
              "precip_depth_1_hr                                  90.2895      5.577     16.190      0.000      79.349     101.230\n",
              "sea_level_pressure                                -17.9156      5.161     -3.471      0.001     -28.040      -7.791\n",
              "wind_direction                                      0.4068      0.385      1.057      0.291      -0.348       1.162\n",
              "==============================================================================\n",
              "Omnibus:                     1490.148   Durbin-Watson:                   1.880\n",
              "Prob(Omnibus):                  0.000   Jarque-Bera (JB):           169602.811\n",
              "Skew:                           4.876   Prob(JB):                         0.00\n",
              "Kurtosis:                      55.779   Cond. No.                     1.05e+08\n",
              "==============================================================================\n",
              "\n",
              "Notes:\n",
              "[1] Standard Errors assume that the covariance matrix of the errors is correctly specified.\n",
              "[2] The condition number is large, 1.05e+08. This might indicate that there are\n",
              "strong multicollinearity or other numerical problems.\n",
              "\"\"\""
            ],
            "text/html": [
              "<table class=\"simpletable\">\n",
              "<caption>OLS Regression Results</caption>\n",
              "<tr>\n",
              "  <th>Dep. Variable:</th>      <td>meter_reading</td>  <th>  R-squared:         </th> <td>   0.490</td> \n",
              "</tr>\n",
              "<tr>\n",
              "  <th>Model:</th>                   <td>OLS</td>       <th>  Adj. R-squared:    </th> <td>   0.482</td> \n",
              "</tr>\n",
              "<tr>\n",
              "  <th>Method:</th>             <td>Least Squares</td>  <th>  F-statistic:       </th> <td>   63.54</td> \n",
              "</tr>\n",
              "<tr>\n",
              "  <th>Date:</th>             <td>Fri, 18 Nov 2022</td> <th>  Prob (F-statistic):</th> <td>7.67e-186</td>\n",
              "</tr>\n",
              "<tr>\n",
              "  <th>Time:</th>                 <td>09:09:30</td>     <th>  Log-Likelihood:    </th> <td> -9903.7</td> \n",
              "</tr>\n",
              "<tr>\n",
              "  <th>No. Observations:</th>      <td>  1413</td>      <th>  AIC:               </th> <td>1.985e+04</td>\n",
              "</tr>\n",
              "<tr>\n",
              "  <th>Df Residuals:</th>          <td>  1391</td>      <th>  BIC:               </th> <td>1.997e+04</td>\n",
              "</tr>\n",
              "<tr>\n",
              "  <th>Df Model:</th>              <td>    21</td>      <th>                     </th>     <td> </td>    \n",
              "</tr>\n",
              "<tr>\n",
              "  <th>Covariance Type:</th>      <td>nonrobust</td>    <th>                     </th>     <td> </td>    \n",
              "</tr>\n",
              "</table>\n",
              "<table class=\"simpletable\">\n",
              "<tr>\n",
              "                         <td></td>                            <th>coef</th>     <th>std err</th>      <th>t</th>      <th>P>|t|</th>  <th>[0.025</th>    <th>0.975]</th>  \n",
              "</tr>\n",
              "<tr>\n",
              "  <th>Intercept</th>                                       <td> 1.796e+04</td> <td> 5202.613</td> <td>    3.451</td> <td> 0.001</td> <td> 7750.428</td> <td> 2.82e+04</td>\n",
              "</tr>\n",
              "<tr>\n",
              "  <th>C(primary_use)[T.Entertainment/public assembly]</th> <td>  -83.0677</td> <td>   23.507</td> <td>   -3.534</td> <td> 0.000</td> <td> -129.180</td> <td>  -36.955</td>\n",
              "</tr>\n",
              "<tr>\n",
              "  <th>C(primary_use)[T.Food sales and service]</th>        <td>   28.2938</td> <td>  121.613</td> <td>    0.233</td> <td> 0.816</td> <td> -210.270</td> <td>  266.858</td>\n",
              "</tr>\n",
              "<tr>\n",
              "  <th>C(primary_use)[T.Healthcare]</th>                    <td>   35.6287</td> <td>   60.347</td> <td>    0.590</td> <td> 0.555</td> <td>  -82.752</td> <td>  154.009</td>\n",
              "</tr>\n",
              "<tr>\n",
              "  <th>C(primary_use)[T.Lodging/residential]</th>           <td> -100.9710</td> <td>   25.716</td> <td>   -3.926</td> <td> 0.000</td> <td> -151.417</td> <td>  -50.525</td>\n",
              "</tr>\n",
              "<tr>\n",
              "  <th>C(primary_use)[T.Manufacturing/industrial]</th>      <td>  -27.2496</td> <td>   86.523</td> <td>   -0.315</td> <td> 0.753</td> <td> -196.979</td> <td>  142.479</td>\n",
              "</tr>\n",
              "<tr>\n",
              "  <th>C(primary_use)[T.Office]</th>                        <td>  -29.8379</td> <td>   20.464</td> <td>   -1.458</td> <td> 0.145</td> <td>  -69.981</td> <td>   10.305</td>\n",
              "</tr>\n",
              "<tr>\n",
              "  <th>C(primary_use)[T.Other]</th>                         <td>  -41.9759</td> <td>   55.907</td> <td>   -0.751</td> <td> 0.453</td> <td> -151.647</td> <td>   67.695</td>\n",
              "</tr>\n",
              "<tr>\n",
              "  <th>C(primary_use)[T.Parking]</th>                       <td> -517.0277</td> <td>   60.191</td> <td>   -8.590</td> <td> 0.000</td> <td> -635.102</td> <td> -398.954</td>\n",
              "</tr>\n",
              "<tr>\n",
              "  <th>C(primary_use)[T.Public services]</th>               <td>  -85.3973</td> <td>   25.909</td> <td>   -3.296</td> <td> 0.001</td> <td> -136.221</td> <td>  -34.573</td>\n",
              "</tr>\n",
              "<tr>\n",
              "  <th>C(primary_use)[T.Religious worship]</th>             <td>  -93.2453</td> <td>  156.516</td> <td>   -0.596</td> <td> 0.551</td> <td> -400.279</td> <td>  213.788</td>\n",
              "</tr>\n",
              "<tr>\n",
              "  <th>C(primary_use)[T.Retail]</th>                        <td>   12.8781</td> <td>   83.190</td> <td>    0.155</td> <td> 0.877</td> <td> -150.314</td> <td>  176.070</td>\n",
              "</tr>\n",
              "<tr>\n",
              "  <th>C(primary_use)[T.Services]</th>                      <td> -343.5615</td> <td>   91.487</td> <td>   -3.755</td> <td> 0.000</td> <td> -523.029</td> <td> -164.095</td>\n",
              "</tr>\n",
              "<tr>\n",
              "  <th>C(primary_use)[T.Technology/science]</th>            <td>  -33.5041</td> <td>  110.973</td> <td>   -0.302</td> <td> 0.763</td> <td> -251.198</td> <td>  184.189</td>\n",
              "</tr>\n",
              "<tr>\n",
              "  <th>C(primary_use)[T.Utility]</th>                       <td>    7.9370</td> <td>  135.638</td> <td>    0.059</td> <td> 0.953</td> <td> -258.140</td> <td>  274.014</td>\n",
              "</tr>\n",
              "<tr>\n",
              "  <th>C(primary_use)[T.Warehouse/storage]</th>             <td>  -79.9896</td> <td>   79.243</td> <td>   -1.009</td> <td> 0.313</td> <td> -235.439</td> <td>   75.460</td>\n",
              "</tr>\n",
              "<tr>\n",
              "  <th>square_feet</th>                                     <td>    0.0019</td> <td> 6.88e-05</td> <td>   28.075</td> <td> 0.000</td> <td>    0.002</td> <td>    0.002</td>\n",
              "</tr>\n",
              "<tr>\n",
              "  <th>cloud_coverage</th>                                  <td>   20.3200</td> <td>    5.342</td> <td>    3.804</td> <td> 0.000</td> <td>    9.840</td> <td>   30.800</td>\n",
              "</tr>\n",
              "<tr>\n",
              "  <th>dew_temperature</th>                                 <td>   10.8857</td> <td>    2.312</td> <td>    4.708</td> <td> 0.000</td> <td>    6.350</td> <td>   15.422</td>\n",
              "</tr>\n",
              "<tr>\n",
              "  <th>precip_depth_1_hr</th>                               <td>   90.2895</td> <td>    5.577</td> <td>   16.190</td> <td> 0.000</td> <td>   79.349</td> <td>  101.230</td>\n",
              "</tr>\n",
              "<tr>\n",
              "  <th>sea_level_pressure</th>                              <td>  -17.9156</td> <td>    5.161</td> <td>   -3.471</td> <td> 0.001</td> <td>  -28.040</td> <td>   -7.791</td>\n",
              "</tr>\n",
              "<tr>\n",
              "  <th>wind_direction</th>                                  <td>    0.4068</td> <td>    0.385</td> <td>    1.057</td> <td> 0.291</td> <td>   -0.348</td> <td>    1.162</td>\n",
              "</tr>\n",
              "</table>\n",
              "<table class=\"simpletable\">\n",
              "<tr>\n",
              "  <th>Omnibus:</th>       <td>1490.148</td> <th>  Durbin-Watson:     </th>  <td>   1.880</td> \n",
              "</tr>\n",
              "<tr>\n",
              "  <th>Prob(Omnibus):</th>  <td> 0.000</td>  <th>  Jarque-Bera (JB):  </th> <td>169602.811</td>\n",
              "</tr>\n",
              "<tr>\n",
              "  <th>Skew:</th>           <td> 4.876</td>  <th>  Prob(JB):          </th>  <td>    0.00</td> \n",
              "</tr>\n",
              "<tr>\n",
              "  <th>Kurtosis:</th>       <td>55.779</td>  <th>  Cond. No.          </th>  <td>1.05e+08</td> \n",
              "</tr>\n",
              "</table><br/><br/>Notes:<br/>[1] Standard Errors assume that the covariance matrix of the errors is correctly specified.<br/>[2] The condition number is large, 1.05e+08. This might indicate that there are<br/>strong multicollinearity or other numerical problems."
            ]
          },
          "metadata": {},
          "execution_count": 33
        }
      ]
    },
    {
      "cell_type": "markdown",
      "source": [
        "Intepretasi koefisien \n",
        "\n",
        "Dari model didapatkan hasil bahwa\n",
        "• Keseluruhan variabel memiliki nilai p-value < 0.05 sehingga data signifikan secara statistik.\n",
        "\n",
        "• Berdasarkan nilai  𝑅^2 , didapatkan 0,490 maka dapat dikatakan bahwa model hanya menjelaskan 4,9% variansi dari data, sehingga model ini tidak terlalu bagus dan akurat untuk digunakan.\n",
        "\n",
        "Coef menunjukkan seberapa banyak kenaikan 1 unit pada variabel bebas terhadap variabel terikat. Sehingga,\n",
        "\n",
        "•Setiap kenaikan 1 unit square feet akan meningkatkan 0.0019 meter reading, \n",
        "\n",
        "•Setiap kenaikan 1 unit cloud coverage akan menaikkan 20.3200 meter reading, \n",
        "\n",
        "•Setiap kenaikan 1 unit dew temperature akan menaikkan 10.8857 meter reading,\n",
        "\n",
        "•Setiap kenaikan  1 unit sea level pressure akan menurunkan 17.9156 meter reading. \n",
        "\n",
        "•Setiap kenaikan  1 unit wind direction akan menaikkan 0.4068 meter reading. \n",
        "\n",
        "•Setiap kenaikan 1 unit precipt 1 hr akan menaikkan 90.2895\n",
        "\n"
      ],
      "metadata": {
        "id": "jkQHFzNKDfu7"
      }
    },
    {
      "cell_type": "code",
      "source": [
        "set(df4['primary_use'])"
      ],
      "metadata": {
        "colab": {
          "base_uri": "https://localhost:8080/"
        },
        "id": "dZVKLRgVAfrN",
        "outputId": "dffb732a-9fba-4822-cfca-9e5f99d40cbc"
      },
      "execution_count": null,
      "outputs": [
        {
          "output_type": "execute_result",
          "data": {
            "text/plain": [
              "{'Education',\n",
              " 'Entertainment/public assembly',\n",
              " 'Food sales and service',\n",
              " 'Healthcare',\n",
              " 'Lodging/residential',\n",
              " 'Manufacturing/industrial',\n",
              " 'Office',\n",
              " 'Other',\n",
              " 'Parking',\n",
              " 'Public services',\n",
              " 'Religious worship',\n",
              " 'Retail',\n",
              " 'Services',\n",
              " 'Technology/science',\n",
              " 'Utility',\n",
              " 'Warehouse/storage'}"
            ]
          },
          "metadata": {},
          "execution_count": 39
        }
      ]
    },
    {
      "cell_type": "markdown",
      "source": [
        "Interpretasi regresi:\n",
        "- dengan variabel kategori dari primary_use, regresi menggunakan baseline kategori education.\n",
        "- P val dari F untuk menyatakan signifikan keseluruhan variabel dengan p-val mendekati 0 artinya, model berguna.\n",
        "- Variabel-variabel masing-masing yang signifikan dapat dilihat dari pval t, didapatkan variabel kategori entertainment terhadap edukasi, lodging terhadap edukasi, parking terhadap edukasi, public service terhadap edukasi, services terhadap edukasi, square feet hingga sea_level signifikan.\n",
        "- R^2 0.49 dan R^2 adjusted 0.48 tidak memiliki perbedaan yang jauh, artinya variabel-variabel penjelas berguna."
      ],
      "metadata": {
        "id": "tiHhjXYT9TkO"
      }
    },
    {
      "cell_type": "markdown",
      "source": [
        "##STEPWISE FORWARD"
      ],
      "metadata": {
        "id": "ys9XR0i0y2bl"
      }
    },
    {
      "cell_type": "code",
      "source": [
        "def forward_selected(df4, response):\n",
        "    remaining = set(df4.columns)\n",
        "    remaining.remove(response)\n",
        "    selected = []\n",
        "    current_score, best_new_score = 0.0, 0.0\n",
        "    while remaining and current_score == best_new_score:\n",
        "        scores_with_candidates = []\n",
        "        for candidate in remaining:\n",
        "            formula = \"{} ~ {} + 1\".format(response,' + '.join(selected + [candidate]))\n",
        "            score = smf.ols(formula, df4).fit().rsquared_adj\n",
        "            scores_with_candidates.append((score, candidate))\n",
        "        scores_with_candidates.sort()\n",
        "        best_new_score, best_candidate = scores_with_candidates.pop()\n",
        "        if current_score < best_new_score:\n",
        "            remaining.remove(best_candidate)\n",
        "            selected.append(best_candidate)\n",
        "            current_score = best_new_score\n",
        "    formula = \"{} ~ {} + 1\".format(response, ' + '.join(selected))\n",
        "    model = smf.ols(formula, df4).fit()\n",
        "    return model"
      ],
      "metadata": {
        "id": "safDg8ORy0ZJ"
      },
      "execution_count": null,
      "outputs": []
    },
    {
      "cell_type": "code",
      "source": [
        "model = forward_selected(df4, 'meter_reading')"
      ],
      "metadata": {
        "id": "h6apIH8Yy7uw"
      },
      "execution_count": null,
      "outputs": []
    },
    {
      "cell_type": "code",
      "source": [
        "print(model.model.formula)\n",
        "print(model.rsquared_adj)"
      ],
      "metadata": {
        "colab": {
          "base_uri": "https://localhost:8080/"
        },
        "id": "hrxjGyaRy9HM",
        "outputId": "18aa3421-9769-4c8c-d27b-2d96f9fef9a0"
      },
      "execution_count": null,
      "outputs": [
        {
          "output_type": "stream",
          "name": "stdout",
          "text": [
            "meter_reading ~ square_feet + precip_depth_1_hr + primary_use + air_temperature + wind_direction + cloud_coverage + dew_temperature + wind_speed + 1\n",
            "0.4861701561255959\n"
          ]
        }
      ]
    },
    {
      "cell_type": "code",
      "source": [
        "#Interpretasi Koefisien\n",
        "print(model.summary())"
      ],
      "metadata": {
        "colab": {
          "base_uri": "https://localhost:8080/"
        },
        "id": "Wf-1-cisy-3c",
        "outputId": "cce09b9b-08c6-432f-c5c6-49c395b5100d"
      },
      "execution_count": null,
      "outputs": [
        {
          "output_type": "stream",
          "name": "stdout",
          "text": [
            "                            OLS Regression Results                            \n",
            "==============================================================================\n",
            "Dep. Variable:          meter_reading   R-squared:                       0.494\n",
            "Model:                            OLS   Adj. R-squared:                  0.486\n",
            "Method:                 Least Squares   F-statistic:                     61.73\n",
            "Date:                Fri, 18 Nov 2022   Prob (F-statistic):          1.32e-187\n",
            "Time:                        09:09:31   Log-Likelihood:                -9897.3\n",
            "No. Observations:                1413   AIC:                         1.984e+04\n",
            "Df Residuals:                    1390   BIC:                         1.996e+04\n",
            "Df Model:                          22                                         \n",
            "Covariance Type:            nonrobust                                         \n",
            "================================================================================================================\n",
            "                                                   coef    std err          t      P>|t|      [0.025      0.975]\n",
            "----------------------------------------------------------------------------------------------------------------\n",
            "Intercept                                     -571.9245    118.593     -4.823      0.000    -804.565    -339.284\n",
            "primary_use[T.Entertainment/public assembly]   -86.4191     23.374     -3.697      0.000    -132.272     -40.566\n",
            "primary_use[T.Food sales and service]           20.0881    121.142      0.166      0.868    -217.554     257.730\n",
            "primary_use[T.Healthcare]                       24.3002     60.174      0.404      0.686     -93.742     142.342\n",
            "primary_use[T.Lodging/residential]             -97.3575     25.608     -3.802      0.000    -147.592     -47.123\n",
            "primary_use[T.Manufacturing/industrial]         -0.6264     86.618     -0.007      0.994    -170.542     169.289\n",
            "primary_use[T.Office]                          -19.7829     20.572     -0.962      0.336     -60.138      20.573\n",
            "primary_use[T.Other]                           -44.7204     55.634     -0.804      0.422    -153.855      64.414\n",
            "primary_use[T.Parking]                        -516.4540     59.973     -8.612      0.000    -634.100    -398.808\n",
            "primary_use[T.Public services]                 -97.8414     25.541     -3.831      0.000    -147.944     -47.739\n",
            "primary_use[T.Religious worship]              -104.1227    155.889     -0.668      0.504    -409.925     201.680\n",
            "primary_use[T.Retail]                           37.9808     82.886      0.458      0.647    -124.614     200.576\n",
            "primary_use[T.Services]                       -315.7272     91.425     -3.453      0.001    -495.073    -136.382\n",
            "primary_use[T.Technology/science]              -21.5977    110.582     -0.195      0.845    -238.523     195.327\n",
            "primary_use[T.Utility]                           0.4074    135.098      0.003      0.998    -264.611     265.426\n",
            "primary_use[T.Warehouse/storage]               -84.3074     78.879     -1.069      0.285    -239.042      70.427\n",
            "square_feet                                      0.0019   6.88e-05     28.256      0.000       0.002       0.002\n",
            "precip_depth_1_hr                               92.7127      5.994     15.469      0.000      80.955     104.470\n",
            "air_temperature                                 11.0129      2.570      4.285      0.000       5.971      16.055\n",
            "wind_direction                                   2.1537      0.733      2.937      0.003       0.715       3.592\n",
            "cloud_coverage                                  16.7976      6.597      2.546      0.011       3.857      29.738\n",
            "dew_temperature                                  4.0338      2.091      1.929      0.054      -0.068       8.136\n",
            "wind_speed                                     -28.6776     24.476     -1.172      0.242     -76.691      19.335\n",
            "==============================================================================\n",
            "Omnibus:                     1489.189   Durbin-Watson:                   1.904\n",
            "Prob(Omnibus):                  0.000   Jarque-Bera (JB):           171063.206\n",
            "Skew:                           4.866   Prob(JB):                         0.00\n",
            "Kurtosis:                      56.017   Cond. No.                     3.16e+06\n",
            "==============================================================================\n",
            "\n",
            "Notes:\n",
            "[1] Standard Errors assume that the covariance matrix of the errors is correctly specified.\n",
            "[2] The condition number is large, 3.16e+06. This might indicate that there are\n",
            "strong multicollinearity or other numerical problems.\n"
          ]
        }
      ]
    },
    {
      "cell_type": "markdown",
      "source": [
        "#Pemodelan tanpa Kategori\n",
        "\n",
        "Misalkan, kita hanya ingin melihat hubungan dari variabel-variabel numerik, maka pemodelan didapatkan dengan:\n"
      ],
      "metadata": {
        "id": "_hf-QNjlFGHd"
      }
    },
    {
      "cell_type": "code",
      "source": [
        "## getting column names\n",
        "x_columns = ['square_feet','cloud_coverage','dew_temperature','precip_depth_1_hr','sea_level_pressure','wind_direction']\n",
        "y = df4['meter_reading']\n",
        "## creating function to get model statistics\n",
        "import numpy as np\n",
        "import statsmodels.api as sm\n",
        "def get_stats():\n",
        "    x = df4[x_columns]\n",
        "    results = sm.OLS(y, x).fit()\n",
        "    print(results.summary())\n",
        "get_stats()"
      ],
      "metadata": {
        "colab": {
          "base_uri": "https://localhost:8080/"
        },
        "id": "clVVeY06FCih",
        "outputId": "0e093174-d181-4cf0-9105-fe886cc9108c"
      },
      "execution_count": null,
      "outputs": [
        {
          "output_type": "stream",
          "name": "stdout",
          "text": [
            "                                 OLS Regression Results                                \n",
            "=======================================================================================\n",
            "Dep. Variable:          meter_reading   R-squared (uncentered):                   0.553\n",
            "Model:                            OLS   Adj. R-squared (uncentered):              0.552\n",
            "Method:                 Least Squares   F-statistic:                              290.7\n",
            "Date:                Fri, 18 Nov 2022   Prob (F-statistic):                   3.54e-242\n",
            "Time:                        09:32:06   Log-Likelihood:                         -9963.8\n",
            "No. Observations:                1413   AIC:                                  1.994e+04\n",
            "Df Residuals:                    1407   BIC:                                  1.997e+04\n",
            "Df Model:                           6                                                  \n",
            "Covariance Type:            nonrobust                                                  \n",
            "======================================================================================\n",
            "                         coef    std err          t      P>|t|      [0.025      0.975]\n",
            "--------------------------------------------------------------------------------------\n",
            "square_feet            0.0018   6.84e-05     26.829      0.000       0.002       0.002\n",
            "cloud_coverage        14.3954      5.309      2.712      0.007       3.981      24.809\n",
            "dew_temperature        5.1121      1.887      2.709      0.007       1.410       8.814\n",
            "precip_depth_1_hr     87.8859      5.563     15.799      0.000      76.974      98.798\n",
            "sea_level_pressure    -0.1621      0.070     -2.322      0.020      -0.299      -0.025\n",
            "wind_direction         0.0356      0.358      0.100      0.921      -0.667       0.738\n",
            "==============================================================================\n",
            "Omnibus:                     1448.182   Durbin-Watson:                   1.790\n",
            "Prob(Omnibus):                  0.000   Jarque-Bera (JB):           150544.763\n",
            "Skew:                           4.669   Prob(JB):                         0.00\n",
            "Kurtosis:                      52.697   Cond. No.                     1.11e+05\n",
            "==============================================================================\n",
            "\n",
            "Notes:\n",
            "[1] R² is computed without centering (uncentered) since the model does not contain a constant.\n",
            "[2] Standard Errors assume that the covariance matrix of the errors is correctly specified.\n",
            "[3] The condition number is large, 1.11e+05. This might indicate that there are\n",
            "strong multicollinearity or other numerical problems.\n"
          ]
        }
      ]
    },
    {
      "cell_type": "markdown",
      "source": [
        "- Didapatkan nilai R^2 dan adjusted R^2 yang lebih tinggi, artinya informasi mengenai square feet, air temperature, cloud coverage, hingga wind speed dapat menjelaskan variabel Y lebih baik.\n",
        "\n",
        "- Selain model berguna secara statistik (dilihat dari nilai p value f mendekati 0) masing-masing variabel juga berguna (Signifikan secara statistik) terhadap variabel Y, kecuali variabel wind_direction yang tidak signifikan secara statistik\n",
        "\n"
      ],
      "metadata": {
        "id": "jVfJJmllFM3P"
      }
    },
    {
      "cell_type": "markdown",
      "source": [
        "#Kesimpulan dan Saran :\n",
        "- Secara garis besar data yang diberikan, masih kurang baik karena masih terdapat banyak missing values.\n",
        "\n",
        "- Terdapat koefisien positif untuk variabel square feet, cloud coverage, dew temperature, precipt depth 1 hr, dan wind direction yang mempengaruhi kenaikan listrik. Sementara, terdapat koefisien negatif untuk variabel sea level pressure yang mempengaruhi penurunan listrik.\n",
        "\n",
        "- Terdapat outlier pada data, tetapi telah diatasi dengan melakukan scalling\n",
        "\n",
        "- Untuk melihat meter_reading sebagai variabel dependen, dihapuskan 2 variabel dari yang diberikan yaitu variabel year_built dan floor_counts karena terlalu banyak missing values yang didapatkan\n",
        "\n",
        "- Jika sebuah instansi edukasi, kesehatan, dan retail ingin membuat sebuah bangunan maka perlu dipersiapkan dana yang cukup besar karena penggunaan listrik dari ke-3 sektor tersebut cukup tinggi diantara sektor lainnya.\n",
        "\n",
        "- Jika sebuah konstruksi ingin membuat sebuah bangunan yang memiliki luas bangunan yang cukup besar, maka perlu dipersiapkan daya listrik yang cukup besar pula, karena terdapat korelasi yang positif dan cukup besar antara keduanya.\n",
        "\n",
        "- Dari sejumlah model regresi yang dicoba, didapatkan model reg"
      ],
      "metadata": {
        "id": "uo7L4E-6DH_7"
      }
    },
    {
      "cell_type": "code",
      "source": [],
      "metadata": {
        "id": "mpAdc4aqzDkF"
      },
      "execution_count": null,
      "outputs": []
    }
  ]
}