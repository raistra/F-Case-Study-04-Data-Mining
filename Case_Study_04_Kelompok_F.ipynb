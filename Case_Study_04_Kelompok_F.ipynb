{
  "nbformat": 4,
  "nbformat_minor": 0,
  "metadata": {
    "colab": {
      "provenance": [],
      "authorship_tag": "ABX9TyMnnXKU+S+lPV5iqqClLBft",
      "include_colab_link": true
    },
    "kernelspec": {
      "name": "python3",
      "display_name": "Python 3"
    },
    "language_info": {
      "name": "python"
    }
  },
  "cells": [
    {
      "cell_type": "markdown",
      "metadata": {
        "id": "view-in-github",
        "colab_type": "text"
      },
      "source": [
        "<a href=\"https://colab.research.google.com/github/raistra/F-Case-Study-04-Data-Mining/blob/main/Case_Study_04_Kelompok_F.ipynb\" target=\"_parent\"><img src=\"https://colab.research.google.com/assets/colab-badge.svg\" alt=\"Open In Colab\"/></a>"
      ]
    },
    {
      "cell_type": "markdown",
      "source": [
        "<center><h2><strong>Study Case 04 - Data Mining dan Business Intelligence: Korelasi dan Regresi</strong></h2></center>\n"
      ],
      "metadata": {
        "id": "Cbu1Ympyjo70"
      }
    },
    {
      "cell_type": "markdown",
      "source": [
        "# **Kelompok F**\n",
        "\n",
        "Anggota :\n",
        " \n",
        "1. Andini Assyahidah (2006571040)\n",
        "2. Farah Tri Nurul Hayati (2006572882)\n",
        "3. Ni Made Lidya Anggreni (2006522700)\n",
        "4. Nurul Qomariah Abdillah (2006463811)\n",
        "5. Peksyaji (2006522322)\n",
        "6. Raistra Aurel (2006572876)\n",
        "7. Yovela Natalia Yvone (2006463894)\n"
      ],
      "metadata": {
        "id": "nlBrp4OskDR5"
      }
    },
    {
      "cell_type": "markdown",
      "source": [
        "# **Problem Statement**"
      ],
      "metadata": {
        "id": "OOvoziMsk0MW"
      }
    },
    {
      "cell_type": "markdown",
      "source": [
        "ppp"
      ],
      "metadata": {
        "id": "U0Xm-x1eoGbP"
      }
    },
    {
      "cell_type": "markdown",
      "source": [
        "# **Import Module**"
      ],
      "metadata": {
        "id": "JsS-Rj3bk4yv"
      }
    },
    {
      "cell_type": "code",
      "execution_count": 1,
      "metadata": {
        "colab": {
          "base_uri": "https://localhost:8080/",
          "height": 36
        },
        "id": "3yeFijX9jQn0",
        "outputId": "6750a301-8816-4e1f-96c6-0302e8ea30e4"
      },
      "outputs": [
        {
          "output_type": "execute_result",
          "data": {
            "text/plain": [
              "'Done'"
            ],
            "application/vnd.google.colaboratory.intrinsic+json": {
              "type": "string"
            }
          },
          "metadata": {},
          "execution_count": 1
        }
      ],
      "source": [
        "import warnings; warnings.simplefilter('ignore')\n",
        "import pandas as pd, seaborn as sns, matplotlib.pyplot as plt, numpy as np\n",
        "import statsmodels.formula.api as smf\n",
        "from statsmodels.formula.api import ols\n",
        "import statsmodels.api as sm, scipy.stats as stats\n",
        "from sklearn.datasets import load_boston\n",
        "from sklearn.preprocessing import MinMaxScaler\n",
        "plt.style.use('bmh'); sns.set()\n",
        "\"Done\""
      ]
    },
    {
      "cell_type": "markdown",
      "source": [
        "# **Data**"
      ],
      "metadata": {
        "id": "eMzWxLmYl2Gx"
      }
    },
    {
      "cell_type": "code",
      "source": [
        "#Import data\n",
        "df = pd.read_csv"
      ],
      "metadata": {
        "id": "KmBkFWCVldzu"
      },
      "execution_count": null,
      "outputs": []
    },
    {
      "cell_type": "code",
      "source": [
        "#Melihat informasi data\n",
        "df.info()"
      ],
      "metadata": {
        "id": "fuTorLV6l98f"
      },
      "execution_count": null,
      "outputs": []
    },
    {
      "cell_type": "markdown",
      "source": [
        "Note:\n",
        "- blabla\n",
        "- blabla"
      ],
      "metadata": {
        "id": "EWdmfVfLmH0c"
      }
    },
    {
      "cell_type": "markdown",
      "source": [
        "# **Pre Processing**"
      ],
      "metadata": {
        "id": "ZkDfqKsbmNRE"
      }
    },
    {
      "cell_type": "code",
      "source": [
        "#Mengubah tipe data\n",
        "df['p']=df['p'].astype('object')\n",
        "df['x']=df['x'].astype('datetime64') \n",
        "df['y']=df['y'].astype('category')"
      ],
      "metadata": {
        "id": "KoFibHUkmCbt"
      },
      "execution_count": null,
      "outputs": []
    },
    {
      "cell_type": "markdown",
      "source": [
        "Note:\n",
        "- Kolom `p` diubah dari ini menjadi ini karena"
      ],
      "metadata": {
        "id": "4BKiITPcmizH"
      }
    },
    {
      "cell_type": "code",
      "source": [
        "#Drop duplicates\n",
        "df.shape #(lihat shape)\n",
        "df.drop_duplicates()\n",
        "df.shape #recheck shape"
      ],
      "metadata": {
        "id": "wb_Bl2RqmfPe"
      },
      "execution_count": null,
      "outputs": []
    },
    {
      "cell_type": "code",
      "source": [
        "df.info()"
      ],
      "metadata": {
        "id": "vRIwGBo_mtI_"
      },
      "execution_count": null,
      "outputs": []
    },
    {
      "cell_type": "markdown",
      "source": [
        "Note :\n",
        "\n",
        "- Tipe data sudah sesuai dengan yang seharusnya."
      ],
      "metadata": {
        "id": "rKHc17wMmv93"
      }
    },
    {
      "cell_type": "markdown",
      "source": [
        "# **EDA**"
      ],
      "metadata": {
        "id": "ejxM9gyHmyjR"
      }
    },
    {
      "cell_type": "code",
      "source": [
        "#Korelasi dan Scatter Plot untuk melihat datanya\n",
        "print('Covariance = ', np.cov(df.usia, df.tekanan_darah, ddof=0)[0][1])\n",
        "print('Correlations = ', np.corrcoef(df.usia, df.tekanan_darah))\n",
        "plt.scatter(df.usia, df.tekanan_darah)\n",
        "plt.show()"
      ],
      "metadata": {
        "id": "8wqTfkDVmwc0"
      },
      "execution_count": null,
      "outputs": []
    },
    {
      "cell_type": "code",
      "source": [],
      "metadata": {
        "id": "zqSsPP9jnOhm"
      },
      "execution_count": null,
      "outputs": []
    },
    {
      "cell_type": "markdown",
      "source": [
        "# **Pemodelan Regresi**"
      ],
      "metadata": {
        "id": "UM_eYyH7nO_P"
      }
    },
    {
      "cell_type": "code",
      "source": [],
      "metadata": {
        "id": "JRje1k-2nVOG"
      },
      "execution_count": null,
      "outputs": []
    }
  ]
}